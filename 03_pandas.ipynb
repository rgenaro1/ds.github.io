{
 "cells": [
  {
   "cell_type": "markdown",
   "metadata": {
    "collapsed": true,
    "slideshow": {
     "slide_type": "slide"
    }
   },
   "source": [
    "# $$ Pandas $$"
   ]
  },
  {
   "cell_type": "markdown",
   "metadata": {},
   "source": [
    "**Pandas** es un paquete open source de python para representar estructuras de datos. \n",
    "Permite llevar a cabo el análisis de datos de manera fácil e intuitiva similar a como se hace en R. Es muy flexible para la integración con otras librerias aumentando la productividad.\n",
    "\"Python con pandas está siendo usado en gran variedad de ámbitos académicos y comerciales, incluyendo Finanzas, Neurociencia, Economía, Estadística, Publicidad, Web Analytics y mucho más\".\n",
    "\n",
    "- [Pagina Oficial](http://pandas.pydata.org)\n",
    "- [Repositorio en Github](https://github.com/pydata/pandas)\n",
    "- [Distribucion con Anaconda]()\n",
    "- [Soporte](http://stackoverflow.com/questions/tagged/pandas)\n",
    "- [Grupo de desarrollo](http://groups.google.com/group/pydata)"
   ]
  },
  {
   "cell_type": "code",
   "execution_count": 2,
   "metadata": {
    "collapsed": false,
    "slideshow": {
     "slide_type": "slide"
    }
   },
   "outputs": [],
   "source": [
    "# Importacion\n",
    "import pandas as pd"
   ]
  },
  {
   "cell_type": "code",
   "execution_count": 3,
   "metadata": {
    "collapsed": false
   },
   "outputs": [
    {
     "data": {
      "text/plain": [
       "u'0.17.1'"
      ]
     },
     "execution_count": 3,
     "metadata": {},
     "output_type": "execute_result"
    }
   ],
   "source": [
    "#Version instalada\n",
    "pd.__version__"
   ]
  },
  {
   "cell_type": "code",
   "execution_count": 4,
   "metadata": {
    "collapsed": false,
    "slideshow": {
     "slide_type": "slide"
    }
   },
   "outputs": [],
   "source": [
    "#Creando un DataFrame\n",
    "df = pd.DataFrame({  'Item':range(4),\n",
    "                     'Nac' : pd.Timestamp('20160803'),\n",
    "                     'Nombre': ('Juan','Gloria','Esteban','Lucia'),\n",
    "                     'Sexo' : pd.Categorical([\"H\",\"M\",'H',\"M\"]),\n",
    "                      })\n"
   ]
  },
  {
   "cell_type": "code",
   "execution_count": 5,
   "metadata": {
    "collapsed": false,
    "scrolled": true
   },
   "outputs": [
    {
     "data": {
      "text/html": [
       "<div>\n",
       "<table border=\"1\" class=\"dataframe\">\n",
       "  <thead>\n",
       "    <tr style=\"text-align: right;\">\n",
       "      <th></th>\n",
       "      <th>Item</th>\n",
       "      <th>Nac</th>\n",
       "      <th>Nombre</th>\n",
       "      <th>Sexo</th>\n",
       "    </tr>\n",
       "  </thead>\n",
       "  <tbody>\n",
       "    <tr>\n",
       "      <th>0</th>\n",
       "      <td>0</td>\n",
       "      <td>2016-08-03</td>\n",
       "      <td>Juan</td>\n",
       "      <td>H</td>\n",
       "    </tr>\n",
       "    <tr>\n",
       "      <th>1</th>\n",
       "      <td>1</td>\n",
       "      <td>2016-08-03</td>\n",
       "      <td>Gloria</td>\n",
       "      <td>M</td>\n",
       "    </tr>\n",
       "    <tr>\n",
       "      <th>2</th>\n",
       "      <td>2</td>\n",
       "      <td>2016-08-03</td>\n",
       "      <td>Esteban</td>\n",
       "      <td>H</td>\n",
       "    </tr>\n",
       "    <tr>\n",
       "      <th>3</th>\n",
       "      <td>3</td>\n",
       "      <td>2016-08-03</td>\n",
       "      <td>Lucia</td>\n",
       "      <td>M</td>\n",
       "    </tr>\n",
       "  </tbody>\n",
       "</table>\n",
       "</div>"
      ],
      "text/plain": [
       "   Item        Nac   Nombre Sexo\n",
       "0     0 2016-08-03     Juan    H\n",
       "1     1 2016-08-03   Gloria    M\n",
       "2     2 2016-08-03  Esteban    H\n",
       "3     3 2016-08-03    Lucia    M"
      ]
     },
     "execution_count": 5,
     "metadata": {},
     "output_type": "execute_result"
    }
   ],
   "source": [
    "df"
   ]
  },
  {
   "cell_type": "code",
   "execution_count": 6,
   "metadata": {
    "collapsed": false,
    "slideshow": {
     "slide_type": "slide"
    }
   },
   "outputs": [
    {
     "data": {
      "text/plain": [
       "Item               int64\n",
       "Nac       datetime64[ns]\n",
       "Nombre            object\n",
       "Sexo            category\n",
       "dtype: object"
      ]
     },
     "execution_count": 6,
     "metadata": {},
     "output_type": "execute_result"
    }
   ],
   "source": [
    "df.dtypes"
   ]
  },
  {
   "cell_type": "code",
   "execution_count": 7,
   "metadata": {
    "collapsed": false,
    "scrolled": true,
    "slideshow": {
     "slide_type": "subslide"
    }
   },
   "outputs": [
    {
     "name": "stdout",
     "output_type": "stream",
     "text": [
      "<class 'pandas.core.frame.DataFrame'>\n",
      "Int64Index: 4 entries, 0 to 3\n",
      "Data columns (total 4 columns):\n",
      "Item      4 non-null int64\n",
      "Nac       4 non-null datetime64[ns]\n",
      "Nombre    4 non-null object\n",
      "Sexo      4 non-null category\n",
      "dtypes: category(1), datetime64[ns](1), int64(1), object(1)\n",
      "memory usage: 148.0+ bytes\n"
     ]
    }
   ],
   "source": [
    "df.info()"
   ]
  },
  {
   "cell_type": "markdown",
   "metadata": {
    "slideshow": {
     "slide_type": "slide"
    }
   },
   "source": [
    "Escribir y leer datos"
   ]
  },
  {
   "cell_type": "code",
   "execution_count": 8,
   "metadata": {
    "collapsed": false,
    "slideshow": {
     "slide_type": "slide"
    }
   },
   "outputs": [],
   "source": [
    "# Escribir csv\n",
    "df.to_csv('tabla1.csv')"
   ]
  },
  {
   "cell_type": "code",
   "execution_count": 9,
   "metadata": {
    "collapsed": false,
    "scrolled": true
   },
   "outputs": [
    {
     "data": {
      "text/html": [
       "<div>\n",
       "<table border=\"1\" class=\"dataframe\">\n",
       "  <thead>\n",
       "    <tr style=\"text-align: right;\">\n",
       "      <th></th>\n",
       "      <th>Unnamed: 0</th>\n",
       "      <th>Item</th>\n",
       "      <th>Nac</th>\n",
       "      <th>Nombre</th>\n",
       "      <th>Sexo</th>\n",
       "    </tr>\n",
       "  </thead>\n",
       "  <tbody>\n",
       "    <tr>\n",
       "      <th>0</th>\n",
       "      <td>0</td>\n",
       "      <td>0</td>\n",
       "      <td>2016-08-03</td>\n",
       "      <td>Juan</td>\n",
       "      <td>H</td>\n",
       "    </tr>\n",
       "    <tr>\n",
       "      <th>1</th>\n",
       "      <td>1</td>\n",
       "      <td>1</td>\n",
       "      <td>2016-08-03</td>\n",
       "      <td>Gloria</td>\n",
       "      <td>M</td>\n",
       "    </tr>\n",
       "    <tr>\n",
       "      <th>2</th>\n",
       "      <td>2</td>\n",
       "      <td>2</td>\n",
       "      <td>2016-08-03</td>\n",
       "      <td>Esteban</td>\n",
       "      <td>H</td>\n",
       "    </tr>\n",
       "    <tr>\n",
       "      <th>3</th>\n",
       "      <td>3</td>\n",
       "      <td>3</td>\n",
       "      <td>2016-08-03</td>\n",
       "      <td>Lucia</td>\n",
       "      <td>M</td>\n",
       "    </tr>\n",
       "  </tbody>\n",
       "</table>\n",
       "</div>"
      ],
      "text/plain": [
       "   Unnamed: 0  Item         Nac   Nombre Sexo\n",
       "0           0     0  2016-08-03     Juan    H\n",
       "1           1     1  2016-08-03   Gloria    M\n",
       "2           2     2  2016-08-03  Esteban    H\n",
       "3           3     3  2016-08-03    Lucia    M"
      ]
     },
     "execution_count": 9,
     "metadata": {},
     "output_type": "execute_result"
    }
   ],
   "source": [
    "# Leer csv\n",
    "df2=pd.read_csv('tabla1.csv')\n",
    "df2"
   ]
  },
  {
   "cell_type": "code",
   "execution_count": 10,
   "metadata": {
    "collapsed": true,
    "slideshow": {
     "slide_type": "slide"
    }
   },
   "outputs": [],
   "source": [
    "# Escribir Excel\n",
    "df.to_excel('tabla2.xlsx', sheet_name='Hoja1')"
   ]
  },
  {
   "cell_type": "code",
   "execution_count": 11,
   "metadata": {
    "collapsed": true
   },
   "outputs": [],
   "source": [
    "# Leer Excel\n",
    "df3=pd.read_excel('tabla2.xlsx',index_col=None)"
   ]
  },
  {
   "cell_type": "code",
   "execution_count": 12,
   "metadata": {
    "collapsed": false
   },
   "outputs": [
    {
     "data": {
      "text/html": [
       "<div>\n",
       "<table border=\"1\" class=\"dataframe\">\n",
       "  <thead>\n",
       "    <tr style=\"text-align: right;\">\n",
       "      <th></th>\n",
       "      <th>Item</th>\n",
       "      <th>Nac</th>\n",
       "      <th>Nombre</th>\n",
       "      <th>Sexo</th>\n",
       "    </tr>\n",
       "  </thead>\n",
       "  <tbody>\n",
       "    <tr>\n",
       "      <th>0</th>\n",
       "      <td>0</td>\n",
       "      <td>2016-08-03</td>\n",
       "      <td>Juan</td>\n",
       "      <td>H</td>\n",
       "    </tr>\n",
       "    <tr>\n",
       "      <th>1</th>\n",
       "      <td>1</td>\n",
       "      <td>2016-08-03</td>\n",
       "      <td>Gloria</td>\n",
       "      <td>M</td>\n",
       "    </tr>\n",
       "    <tr>\n",
       "      <th>2</th>\n",
       "      <td>2</td>\n",
       "      <td>2016-08-03</td>\n",
       "      <td>Esteban</td>\n",
       "      <td>H</td>\n",
       "    </tr>\n",
       "    <tr>\n",
       "      <th>3</th>\n",
       "      <td>3</td>\n",
       "      <td>2016-08-03</td>\n",
       "      <td>Lucia</td>\n",
       "      <td>M</td>\n",
       "    </tr>\n",
       "  </tbody>\n",
       "</table>\n",
       "</div>"
      ],
      "text/plain": [
       "   Item        Nac   Nombre Sexo\n",
       "0     0 2016-08-03     Juan    H\n",
       "1     1 2016-08-03   Gloria    M\n",
       "2     2 2016-08-03  Esteban    H\n",
       "3     3 2016-08-03    Lucia    M"
      ]
     },
     "execution_count": 12,
     "metadata": {},
     "output_type": "execute_result"
    }
   ],
   "source": [
    "df3"
   ]
  },
  {
   "cell_type": "code",
   "execution_count": 13,
   "metadata": {
    "collapsed": false
   },
   "outputs": [
    {
     "ename": "TypeError",
     "evalue": "parser_f() takes at least 1 argument (0 given)",
     "output_type": "error",
     "traceback": [
      "\u001b[1;31m---------------------------------------------------------------------------\u001b[0m",
      "\u001b[1;31mTypeError\u001b[0m                                 Traceback (most recent call last)",
      "\u001b[1;32m<ipython-input-13-3ff255ef3358>\u001b[0m in \u001b[0;36m<module>\u001b[1;34m()\u001b[0m\n\u001b[0;32m      1\u001b[0m \u001b[1;31m# Leer desde Url\u001b[0m\u001b[1;33m\u001b[0m\u001b[1;33m\u001b[0m\u001b[0m\n\u001b[1;32m----> 2\u001b[1;33m \u001b[0mdf\u001b[0m \u001b[1;33m=\u001b[0m \u001b[0mpd\u001b[0m\u001b[1;33m.\u001b[0m\u001b[0mread_table\u001b[0m\u001b[1;33m(\u001b[0m\u001b[1;33m)\u001b[0m\u001b[1;33m\u001b[0m\u001b[0m\n\u001b[0m",
      "\u001b[1;31mTypeError\u001b[0m: parser_f() takes at least 1 argument (0 given)"
     ]
    }
   ],
   "source": [
    "# Leer desde Url\n",
    "df = pd.read_table()"
   ]
  },
  {
   "cell_type": "markdown",
   "metadata": {},
   "source": [
    "Pandas cuenta con gran cantidad de opciones para lectura de datos. [Ver documentacion](http://pandas.pydata.org/pandas-docs/stable/api.html)"
   ]
  },
  {
   "cell_type": "markdown",
   "metadata": {},
   "source": [
    "Importando datos de [Repositorio UCI](https://archive.ics.uci.edu/ml/machine-learning-databases/00360/)"
   ]
  },
  {
   "cell_type": "markdown",
   "metadata": {},
   "source": []
  },
  {
   "cell_type": "code",
   "execution_count": 14,
   "metadata": {
    "collapsed": false
   },
   "outputs": [
    {
     "ename": "NameError",
     "evalue": "name 'df4' is not defined",
     "output_type": "error",
     "traceback": [
      "\u001b[1;31m---------------------------------------------------------------------------\u001b[0m",
      "\u001b[1;31mNameError\u001b[0m                                 Traceback (most recent call last)",
      "\u001b[1;32m<ipython-input-14-9cb2c8ae3956>\u001b[0m in \u001b[0;36m<module>\u001b[1;34m()\u001b[0m\n\u001b[1;32m----> 1\u001b[1;33m \u001b[0mdf5\u001b[0m\u001b[1;33m=\u001b[0m\u001b[0mdf4\u001b[0m\u001b[1;33m[\u001b[0m\u001b[1;33m(\u001b[0m\u001b[0mdf4\u001b[0m\u001b[1;33m.\u001b[0m\u001b[0mTime\u001b[0m\u001b[1;33m>\u001b[0m\u001b[1;36m0\u001b[0m\u001b[1;33m)\u001b[0m\u001b[1;33m]\u001b[0m\u001b[1;33m\u001b[0m\u001b[0m\n\u001b[0m",
      "\u001b[1;31mNameError\u001b[0m: name 'df4' is not defined"
     ]
    }
   ],
   "source": [
    "df5=df4[(df4.Time>0)]"
   ]
  },
  {
   "cell_type": "code",
   "execution_count": 15,
   "metadata": {
    "collapsed": false
   },
   "outputs": [
    {
     "name": "stdout",
     "output_type": "stream",
     "text": [
      "/home/ubuntu\n"
     ]
    }
   ],
   "source": [
    "#importando leyendo datos de un zip\n",
    "import zipfile\n",
    "%cd /home/ubuntu\n",
    "with zipfile.ZipFile('os2_data.zip', \"r\") as z:\n",
    "    z.extractall(\"/home/ubuntu/101_curso\")"
   ]
  },
  {
   "cell_type": "code",
   "execution_count": 16,
   "metadata": {
    "collapsed": false
   },
   "outputs": [
    {
     "data": {
      "text/plain": [
       "u'/home/ubuntu'"
      ]
     },
     "execution_count": 16,
     "metadata": {},
     "output_type": "execute_result"
    }
   ],
   "source": [
    "# Funcion magica como comando para terminal ubuntu\n",
    "%pwd"
   ]
  },
  {
   "cell_type": "code",
   "execution_count": 17,
   "metadata": {
    "collapsed": false
   },
   "outputs": [],
   "source": [
    "# Extrayendo los datos\n",
    "data=pd.read_csv(\n",
    "    '/home/ubuntu/101_curso/data/Ch_1_Exercise_Data/country.csv')"
   ]
  },
  {
   "cell_type": "code",
   "execution_count": 18,
   "metadata": {
    "collapsed": false
   },
   "outputs": [
    {
     "name": "stdout",
     "output_type": "stream",
     "text": [
      "<class 'pandas.core.frame.DataFrame'>\n",
      "Int64Index: 220 entries, 0 to 219\n",
      "Data columns (total 4 columns):\n",
      "country     220 non-null object\n",
      "life_exp    220 non-null float64\n",
      "inf_mort    220 non-null float64\n",
      "internet    208 non-null float64\n",
      "dtypes: float64(3), object(1)\n",
      "memory usage: 8.6+ KB\n"
     ]
    }
   ],
   "source": [
    "# Informacion\n",
    "data.info()"
   ]
  },
  {
   "cell_type": "code",
   "execution_count": 19,
   "metadata": {
    "collapsed": false
   },
   "outputs": [
    {
     "data": {
      "text/html": [
       "<div>\n",
       "<table border=\"1\" class=\"dataframe\">\n",
       "  <thead>\n",
       "    <tr style=\"text-align: right;\">\n",
       "      <th></th>\n",
       "      <th>country</th>\n",
       "      <th>life_exp</th>\n",
       "      <th>inf_mort</th>\n",
       "      <th>internet</th>\n",
       "    </tr>\n",
       "  </thead>\n",
       "  <tbody>\n",
       "    <tr>\n",
       "      <th>0</th>\n",
       "      <td>Afghanistan</td>\n",
       "      <td>49.72</td>\n",
       "      <td>121.63</td>\n",
       "      <td>4.0</td>\n",
       "    </tr>\n",
       "    <tr>\n",
       "      <th>1</th>\n",
       "      <td>Albania</td>\n",
       "      <td>77.59</td>\n",
       "      <td>14.12</td>\n",
       "      <td>45.0</td>\n",
       "    </tr>\n",
       "    <tr>\n",
       "      <th>2</th>\n",
       "      <td>Algeria</td>\n",
       "      <td>74.73</td>\n",
       "      <td>24.90</td>\n",
       "      <td>12.5</td>\n",
       "    </tr>\n",
       "    <tr>\n",
       "      <th>3</th>\n",
       "      <td>American Samoa</td>\n",
       "      <td>74.44</td>\n",
       "      <td>9.42</td>\n",
       "      <td>NaN</td>\n",
       "    </tr>\n",
       "    <tr>\n",
       "      <th>4</th>\n",
       "      <td>Andorra</td>\n",
       "      <td>82.50</td>\n",
       "      <td>3.76</td>\n",
       "      <td>81.0</td>\n",
       "    </tr>\n",
       "  </tbody>\n",
       "</table>\n",
       "</div>"
      ],
      "text/plain": [
       "          country  life_exp  inf_mort  internet\n",
       "0     Afghanistan     49.72    121.63       4.0\n",
       "1         Albania     77.59     14.12      45.0\n",
       "2         Algeria     74.73     24.90      12.5\n",
       "3  American Samoa     74.44      9.42       NaN\n",
       "4         Andorra     82.50      3.76      81.0"
      ]
     },
     "execution_count": 19,
     "metadata": {},
     "output_type": "execute_result"
    }
   ],
   "source": [
    "# Primeras 5 filas\n",
    "data.head()"
   ]
  },
  {
   "cell_type": "code",
   "execution_count": 20,
   "metadata": {
    "collapsed": false,
    "scrolled": true
   },
   "outputs": [
    {
     "data": {
      "text/html": [
       "<div>\n",
       "<table border=\"1\" class=\"dataframe\">\n",
       "  <thead>\n",
       "    <tr style=\"text-align: right;\">\n",
       "      <th></th>\n",
       "      <th>country</th>\n",
       "      <th>life_exp</th>\n",
       "      <th>inf_mort</th>\n",
       "      <th>internet</th>\n",
       "    </tr>\n",
       "  </thead>\n",
       "  <tbody>\n",
       "    <tr>\n",
       "      <th>215</th>\n",
       "      <td>West Bank</td>\n",
       "      <td>75.24</td>\n",
       "      <td>14.47</td>\n",
       "      <td>NaN</td>\n",
       "    </tr>\n",
       "    <tr>\n",
       "      <th>216</th>\n",
       "      <td>Western Sahara</td>\n",
       "      <td>61.52</td>\n",
       "      <td>58.96</td>\n",
       "      <td>NaN</td>\n",
       "    </tr>\n",
       "    <tr>\n",
       "      <th>217</th>\n",
       "      <td>Yemen</td>\n",
       "      <td>64.11</td>\n",
       "      <td>53.50</td>\n",
       "      <td>12.35</td>\n",
       "    </tr>\n",
       "    <tr>\n",
       "      <th>218</th>\n",
       "      <td>Zambia</td>\n",
       "      <td>52.57</td>\n",
       "      <td>64.61</td>\n",
       "      <td>10.00</td>\n",
       "    </tr>\n",
       "    <tr>\n",
       "      <th>219</th>\n",
       "      <td>Zimbabwe</td>\n",
       "      <td>51.82</td>\n",
       "      <td>28.23</td>\n",
       "      <td>11.50</td>\n",
       "    </tr>\n",
       "  </tbody>\n",
       "</table>\n",
       "</div>"
      ],
      "text/plain": [
       "            country  life_exp  inf_mort  internet\n",
       "215       West Bank     75.24     14.47       NaN\n",
       "216  Western Sahara     61.52     58.96       NaN\n",
       "217           Yemen     64.11     53.50     12.35\n",
       "218          Zambia     52.57     64.61     10.00\n",
       "219        Zimbabwe     51.82     28.23     11.50"
      ]
     },
     "execution_count": 20,
     "metadata": {},
     "output_type": "execute_result"
    }
   ],
   "source": [
    "# Ultimas 5 filas\n",
    "data.tail()"
   ]
  },
  {
   "cell_type": "code",
   "execution_count": 21,
   "metadata": {
    "collapsed": false
   },
   "outputs": [
    {
     "data": {
      "text/plain": [
       "0    Afghanistan\n",
       "1        Albania\n",
       "2        Algeria\n",
       "Name: country, dtype: object"
      ]
     },
     "execution_count": 21,
     "metadata": {},
     "output_type": "execute_result"
    }
   ],
   "source": [
    "# seleccion de los primeros tres paises\n",
    "data['country'][0:3]"
   ]
  },
  {
   "cell_type": "code",
   "execution_count": 22,
   "metadata": {
    "collapsed": false
   },
   "outputs": [
    {
     "data": {
      "text/plain": [
       "0    Afghanistan\n",
       "1        Albania\n",
       "2        Algeria\n",
       "Name: country, dtype: object"
      ]
     },
     "execution_count": 22,
     "metadata": {},
     "output_type": "execute_result"
    }
   ],
   "source": [
    "# Forma laternativa de selccion\n",
    "data.country[0:3]"
   ]
  },
  {
   "cell_type": "code",
   "execution_count": 23,
   "metadata": {
    "collapsed": false
   },
   "outputs": [
    {
     "data": {
      "text/plain": [
       "Index([u'country', u'life_exp', u'inf_mort', u'internet'], dtype='object')"
      ]
     },
     "execution_count": 23,
     "metadata": {},
     "output_type": "execute_result"
    }
   ],
   "source": [
    "# Información de columnas\n",
    "data.columns"
   ]
  },
  {
   "cell_type": "code",
   "execution_count": 24,
   "metadata": {
    "collapsed": false
   },
   "outputs": [
    {
     "data": {
      "text/plain": [
       "(220, 4)"
      ]
     },
     "execution_count": 24,
     "metadata": {},
     "output_type": "execute_result"
    }
   ],
   "source": [
    "#tamaño de dataframe\n",
    "data.shape"
   ]
  },
  {
   "cell_type": "code",
   "execution_count": 25,
   "metadata": {
    "collapsed": false
   },
   "outputs": [
    {
     "data": {
      "text/html": [
       "<div>\n",
       "<table border=\"1\" class=\"dataframe\">\n",
       "  <thead>\n",
       "    <tr style=\"text-align: right;\">\n",
       "      <th></th>\n",
       "      <th>life_exp</th>\n",
       "      <th>inf_mort</th>\n",
       "      <th>internet</th>\n",
       "    </tr>\n",
       "  </thead>\n",
       "  <tbody>\n",
       "    <tr>\n",
       "      <th>count</th>\n",
       "      <td>220.000000</td>\n",
       "      <td>220.000000</td>\n",
       "      <td>208.000000</td>\n",
       "    </tr>\n",
       "    <tr>\n",
       "      <th>mean</th>\n",
       "      <td>71.232545</td>\n",
       "      <td>26.330864</td>\n",
       "      <td>33.479952</td>\n",
       "    </tr>\n",
       "    <tr>\n",
       "      <th>std</th>\n",
       "      <td>9.156135</td>\n",
       "      <td>25.752412</td>\n",
       "      <td>28.138513</td>\n",
       "    </tr>\n",
       "    <tr>\n",
       "      <th>min</th>\n",
       "      <td>48.690000</td>\n",
       "      <td>1.800000</td>\n",
       "      <td>0.000000</td>\n",
       "    </tr>\n",
       "    <tr>\n",
       "      <th>25%</th>\n",
       "      <td>66.187500</td>\n",
       "      <td>6.485000</td>\n",
       "      <td>7.822500</td>\n",
       "    </tr>\n",
       "    <tr>\n",
       "      <th>50%</th>\n",
       "      <td>74.060000</td>\n",
       "      <td>15.465000</td>\n",
       "      <td>28.715000</td>\n",
       "    </tr>\n",
       "    <tr>\n",
       "      <th>75%</th>\n",
       "      <td>77.970000</td>\n",
       "      <td>41.345000</td>\n",
       "      <td>53.162500</td>\n",
       "    </tr>\n",
       "    <tr>\n",
       "      <th>max</th>\n",
       "      <td>89.680000</td>\n",
       "      <td>121.630000</td>\n",
       "      <td>95.000000</td>\n",
       "    </tr>\n",
       "  </tbody>\n",
       "</table>\n",
       "</div>"
      ],
      "text/plain": [
       "         life_exp    inf_mort    internet\n",
       "count  220.000000  220.000000  208.000000\n",
       "mean    71.232545   26.330864   33.479952\n",
       "std      9.156135   25.752412   28.138513\n",
       "min     48.690000    1.800000    0.000000\n",
       "25%     66.187500    6.485000    7.822500\n",
       "50%     74.060000   15.465000   28.715000\n",
       "75%     77.970000   41.345000   53.162500\n",
       "max     89.680000  121.630000   95.000000"
      ]
     },
     "execution_count": 25,
     "metadata": {},
     "output_type": "execute_result"
    }
   ],
   "source": [
    "#Resumen de los datos numericos (por defecto) \n",
    "# puede dar tambien de datos categoricos\n",
    "\n",
    "data.describe()"
   ]
  },
  {
   "cell_type": "markdown",
   "metadata": {},
   "source": [
    "mas informacion sobre [describe](http://pandas.pydata.org/pandas-docs/stable/generated/pandas.DataFrame.describe.html) "
   ]
  },
  {
   "cell_type": "code",
   "execution_count": 26,
   "metadata": {
    "collapsed": false
   },
   "outputs": [
    {
     "data": {
      "text/plain": [
       "Index([u'pais', u'esperanza de vida', u'indice de mortalidad', u'internet'], dtype='object')"
      ]
     },
     "execution_count": 26,
     "metadata": {},
     "output_type": "execute_result"
    }
   ],
   "source": [
    "# Renombrando las columnas usando el metodo rename\n",
    "data.rename(columns={'country':'pais',\n",
    "                     'life_exp':'esperanza de vida',\n",
    "                     'inf_mort':'indice de mortalidad'\n",
    "                    }, inplace=True)\n",
    "data.columns"
   ]
  },
  {
   "cell_type": "code",
   "execution_count": 27,
   "metadata": {
    "collapsed": false,
    "scrolled": true
   },
   "outputs": [
    {
     "data": {
      "text/html": [
       "<div>\n",
       "<table border=\"1\" class=\"dataframe\">\n",
       "  <thead>\n",
       "    <tr style=\"text-align: right;\">\n",
       "      <th></th>\n",
       "      <th>pais</th>\n",
       "      <th>esperanza de vida</th>\n",
       "      <th>indice de mortalidad</th>\n",
       "      <th>internet</th>\n",
       "    </tr>\n",
       "  </thead>\n",
       "  <tbody>\n",
       "    <tr>\n",
       "      <th>0</th>\n",
       "      <td>Afghanistan</td>\n",
       "      <td>49.72</td>\n",
       "      <td>121.63</td>\n",
       "      <td>4.0</td>\n",
       "    </tr>\n",
       "    <tr>\n",
       "      <th>1</th>\n",
       "      <td>Albania</td>\n",
       "      <td>77.59</td>\n",
       "      <td>14.12</td>\n",
       "      <td>45.0</td>\n",
       "    </tr>\n",
       "    <tr>\n",
       "      <th>2</th>\n",
       "      <td>Algeria</td>\n",
       "      <td>74.73</td>\n",
       "      <td>24.90</td>\n",
       "      <td>12.5</td>\n",
       "    </tr>\n",
       "    <tr>\n",
       "      <th>3</th>\n",
       "      <td>American Samoa</td>\n",
       "      <td>74.44</td>\n",
       "      <td>9.42</td>\n",
       "      <td>NaN</td>\n",
       "    </tr>\n",
       "    <tr>\n",
       "      <th>4</th>\n",
       "      <td>Andorra</td>\n",
       "      <td>82.50</td>\n",
       "      <td>3.76</td>\n",
       "      <td>81.0</td>\n",
       "    </tr>\n",
       "  </tbody>\n",
       "</table>\n",
       "</div>"
      ],
      "text/plain": [
       "             pais  esperanza de vida  indice de mortalidad  internet\n",
       "0     Afghanistan              49.72                121.63       4.0\n",
       "1         Albania              77.59                 14.12      45.0\n",
       "2         Algeria              74.73                 24.90      12.5\n",
       "3  American Samoa              74.44                  9.42       NaN\n",
       "4         Andorra              82.50                  3.76      81.0"
      ]
     },
     "execution_count": 27,
     "metadata": {},
     "output_type": "execute_result"
    }
   ],
   "source": [
    "data.head()"
   ]
  },
  {
   "cell_type": "code",
   "execution_count": 28,
   "metadata": {
    "collapsed": false
   },
   "outputs": [
    {
     "data": {
      "text/plain": [
       "Index([u'pais', u'esp vida', u'ind mort', u'internet'], dtype='object')"
      ]
     },
     "execution_count": 28,
     "metadata": {},
     "output_type": "execute_result"
    }
   ],
   "source": [
    "# Reemplazando todas las columnas\n",
    "col_data = ['pais', 'esp vida', 'ind mort', 'internet']\n",
    "data.columns = col_data\n",
    "data.columns"
   ]
  },
  {
   "cell_type": "code",
   "execution_count": 29,
   "metadata": {
    "collapsed": false
   },
   "outputs": [
    {
     "data": {
      "text/plain": [
       "Index([u'pais', u'esp_vida', u'ind_mort', u'internet'], dtype='object')"
      ]
     },
     "execution_count": 29,
     "metadata": {},
     "output_type": "execute_result"
    }
   ],
   "source": [
    "# Reemplazando los espacios con guion bajo\n",
    "data.columns = data.columns.str.replace(' ', '_')\n",
    "data.columns"
   ]
  },
  {
   "cell_type": "code",
   "execution_count": 30,
   "metadata": {
    "collapsed": false
   },
   "outputs": [
    {
     "data": {
      "text/html": [
       "<div>\n",
       "<table border=\"1\" class=\"dataframe\">\n",
       "  <thead>\n",
       "    <tr style=\"text-align: right;\">\n",
       "      <th></th>\n",
       "      <th>pais</th>\n",
       "      <th>esp_vida</th>\n",
       "      <th>ind_mort</th>\n",
       "      <th>internet</th>\n",
       "      <th>codigo</th>\n",
       "    </tr>\n",
       "  </thead>\n",
       "  <tbody>\n",
       "    <tr>\n",
       "      <th>0</th>\n",
       "      <td>Afghanistan</td>\n",
       "      <td>49.72</td>\n",
       "      <td>121.63</td>\n",
       "      <td>4.0</td>\n",
       "      <td>Afghanistan A</td>\n",
       "    </tr>\n",
       "    <tr>\n",
       "      <th>1</th>\n",
       "      <td>Albania</td>\n",
       "      <td>77.59</td>\n",
       "      <td>14.12</td>\n",
       "      <td>45.0</td>\n",
       "      <td>Albania A</td>\n",
       "    </tr>\n",
       "    <tr>\n",
       "      <th>2</th>\n",
       "      <td>Algeria</td>\n",
       "      <td>74.73</td>\n",
       "      <td>24.90</td>\n",
       "      <td>12.5</td>\n",
       "      <td>Algeria A</td>\n",
       "    </tr>\n",
       "    <tr>\n",
       "      <th>3</th>\n",
       "      <td>American Samoa</td>\n",
       "      <td>74.44</td>\n",
       "      <td>9.42</td>\n",
       "      <td>NaN</td>\n",
       "      <td>American Samoa A</td>\n",
       "    </tr>\n",
       "    <tr>\n",
       "      <th>4</th>\n",
       "      <td>Andorra</td>\n",
       "      <td>82.50</td>\n",
       "      <td>3.76</td>\n",
       "      <td>81.0</td>\n",
       "      <td>Andorra A</td>\n",
       "    </tr>\n",
       "  </tbody>\n",
       "</table>\n",
       "</div>"
      ],
      "text/plain": [
       "             pais  esp_vida  ind_mort  internet            codigo\n",
       "0     Afghanistan     49.72    121.63       4.0     Afghanistan A\n",
       "1         Albania     77.59     14.12      45.0         Albania A\n",
       "2         Algeria     74.73     24.90      12.5         Algeria A\n",
       "3  American Samoa     74.44      9.42       NaN  American Samoa A\n",
       "4         Andorra     82.50      3.76      81.0         Andorra A"
      ]
     },
     "execution_count": 30,
     "metadata": {},
     "output_type": "execute_result"
    }
   ],
   "source": [
    "#Creando una nueva columna\n",
    "data['codigo'] = data.pais+' '+['A']*220\n",
    "data.head()"
   ]
  },
  {
   "cell_type": "code",
   "execution_count": 31,
   "metadata": {
    "collapsed": false,
    "scrolled": true
   },
   "outputs": [
    {
     "data": {
      "text/html": [
       "<div>\n",
       "<table border=\"1\" class=\"dataframe\">\n",
       "  <thead>\n",
       "    <tr style=\"text-align: right;\">\n",
       "      <th></th>\n",
       "      <th>pais</th>\n",
       "      <th>esp_vida</th>\n",
       "      <th>ind_mort</th>\n",
       "      <th>internet</th>\n",
       "    </tr>\n",
       "  </thead>\n",
       "  <tbody>\n",
       "    <tr>\n",
       "      <th>0</th>\n",
       "      <td>Afghanistan</td>\n",
       "      <td>49.72</td>\n",
       "      <td>121.63</td>\n",
       "      <td>4.0</td>\n",
       "    </tr>\n",
       "    <tr>\n",
       "      <th>1</th>\n",
       "      <td>Albania</td>\n",
       "      <td>77.59</td>\n",
       "      <td>14.12</td>\n",
       "      <td>45.0</td>\n",
       "    </tr>\n",
       "    <tr>\n",
       "      <th>2</th>\n",
       "      <td>Algeria</td>\n",
       "      <td>74.73</td>\n",
       "      <td>24.90</td>\n",
       "      <td>12.5</td>\n",
       "    </tr>\n",
       "    <tr>\n",
       "      <th>3</th>\n",
       "      <td>American Samoa</td>\n",
       "      <td>74.44</td>\n",
       "      <td>9.42</td>\n",
       "      <td>NaN</td>\n",
       "    </tr>\n",
       "    <tr>\n",
       "      <th>4</th>\n",
       "      <td>Andorra</td>\n",
       "      <td>82.50</td>\n",
       "      <td>3.76</td>\n",
       "      <td>81.0</td>\n",
       "    </tr>\n",
       "  </tbody>\n",
       "</table>\n",
       "</div>"
      ],
      "text/plain": [
       "             pais  esp_vida  ind_mort  internet\n",
       "0     Afghanistan     49.72    121.63       4.0\n",
       "1         Albania     77.59     14.12      45.0\n",
       "2         Algeria     74.73     24.90      12.5\n",
       "3  American Samoa     74.44      9.42       NaN\n",
       "4         Andorra     82.50      3.76      81.0"
      ]
     },
     "execution_count": 31,
     "metadata": {},
     "output_type": "execute_result"
    }
   ],
   "source": [
    "# Remover una columna (axis=1)\n",
    "data.drop('codigo', axis=1, inplace=True)\n",
    "data.head()"
   ]
  },
  {
   "cell_type": "code",
   "execution_count": 32,
   "metadata": {
    "collapsed": false
   },
   "outputs": [
    {
     "data": {
      "text/html": [
       "<div>\n",
       "<table border=\"1\" class=\"dataframe\">\n",
       "  <thead>\n",
       "    <tr style=\"text-align: right;\">\n",
       "      <th></th>\n",
       "      <th>pais</th>\n",
       "      <th>esp_vida</th>\n",
       "      <th>ind_mort</th>\n",
       "      <th>internet</th>\n",
       "    </tr>\n",
       "  </thead>\n",
       "  <tbody>\n",
       "    <tr>\n",
       "      <th>2</th>\n",
       "      <td>Algeria</td>\n",
       "      <td>74.73</td>\n",
       "      <td>24.90</td>\n",
       "      <td>12.5</td>\n",
       "    </tr>\n",
       "    <tr>\n",
       "      <th>3</th>\n",
       "      <td>American Samoa</td>\n",
       "      <td>74.44</td>\n",
       "      <td>9.42</td>\n",
       "      <td>NaN</td>\n",
       "    </tr>\n",
       "    <tr>\n",
       "      <th>4</th>\n",
       "      <td>Andorra</td>\n",
       "      <td>82.50</td>\n",
       "      <td>3.76</td>\n",
       "      <td>81.0</td>\n",
       "    </tr>\n",
       "    <tr>\n",
       "      <th>5</th>\n",
       "      <td>Angola</td>\n",
       "      <td>54.59</td>\n",
       "      <td>83.53</td>\n",
       "      <td>10.0</td>\n",
       "    </tr>\n",
       "    <tr>\n",
       "      <th>6</th>\n",
       "      <td>Anguilla</td>\n",
       "      <td>80.98</td>\n",
       "      <td>3.44</td>\n",
       "      <td>0.0</td>\n",
       "    </tr>\n",
       "  </tbody>\n",
       "</table>\n",
       "</div>"
      ],
      "text/plain": [
       "             pais  esp_vida  ind_mort  internet\n",
       "2         Algeria     74.73     24.90      12.5\n",
       "3  American Samoa     74.44      9.42       NaN\n",
       "4         Andorra     82.50      3.76      81.0\n",
       "5          Angola     54.59     83.53      10.0\n",
       "6        Anguilla     80.98      3.44       0.0"
      ]
     },
     "execution_count": 32,
     "metadata": {},
     "output_type": "execute_result"
    }
   ],
   "source": [
    "# Remover las filas (axis=0) Afghanistan \t49.72 \t121.63 \t4.0\n",
    "# 1 \tAlbania \t77.59 \t14.12 \t45.0\n",
    "data.drop([0,1], axis=0, inplace=True)\n",
    "data.head()"
   ]
  },
  {
   "cell_type": "code",
   "execution_count": 33,
   "metadata": {
    "collapsed": false
   },
   "outputs": [],
   "source": [
    "# Nueva fila\n",
    "nueva_linea ={'pais':'Afghanistan',\n",
    "             'esp_vida':49.72,\n",
    "             'ind_mort':121.63,\n",
    "             'internet':4.0}\n"
   ]
  },
  {
   "cell_type": "code",
   "execution_count": 34,
   "metadata": {
    "collapsed": false
   },
   "outputs": [
    {
     "data": {
      "text/html": [
       "<div>\n",
       "<table border=\"1\" class=\"dataframe\">\n",
       "  <thead>\n",
       "    <tr style=\"text-align: right;\">\n",
       "      <th></th>\n",
       "      <th>pais</th>\n",
       "      <th>esp_vida</th>\n",
       "      <th>ind_mort</th>\n",
       "      <th>internet</th>\n",
       "    </tr>\n",
       "  </thead>\n",
       "  <tbody>\n",
       "    <tr>\n",
       "      <th>0</th>\n",
       "      <td>Algeria</td>\n",
       "      <td>74.73</td>\n",
       "      <td>24.90</td>\n",
       "      <td>12.50</td>\n",
       "    </tr>\n",
       "    <tr>\n",
       "      <th>1</th>\n",
       "      <td>American Samoa</td>\n",
       "      <td>74.44</td>\n",
       "      <td>9.42</td>\n",
       "      <td>NaN</td>\n",
       "    </tr>\n",
       "    <tr>\n",
       "      <th>2</th>\n",
       "      <td>Andorra</td>\n",
       "      <td>82.50</td>\n",
       "      <td>3.76</td>\n",
       "      <td>81.00</td>\n",
       "    </tr>\n",
       "    <tr>\n",
       "      <th>3</th>\n",
       "      <td>Angola</td>\n",
       "      <td>54.59</td>\n",
       "      <td>83.53</td>\n",
       "      <td>10.00</td>\n",
       "    </tr>\n",
       "    <tr>\n",
       "      <th>4</th>\n",
       "      <td>Anguilla</td>\n",
       "      <td>80.98</td>\n",
       "      <td>3.44</td>\n",
       "      <td>0.00</td>\n",
       "    </tr>\n",
       "    <tr>\n",
       "      <th>5</th>\n",
       "      <td>Antigua and Barbuda</td>\n",
       "      <td>75.69</td>\n",
       "      <td>14.17</td>\n",
       "      <td>80.00</td>\n",
       "    </tr>\n",
       "    <tr>\n",
       "      <th>6</th>\n",
       "      <td>Argentina</td>\n",
       "      <td>77.14</td>\n",
       "      <td>10.52</td>\n",
       "      <td>36.00</td>\n",
       "    </tr>\n",
       "    <tr>\n",
       "      <th>7</th>\n",
       "      <td>Armenia</td>\n",
       "      <td>73.49</td>\n",
       "      <td>18.21</td>\n",
       "      <td>44.00</td>\n",
       "    </tr>\n",
       "    <tr>\n",
       "      <th>8</th>\n",
       "      <td>Aruba</td>\n",
       "      <td>75.93</td>\n",
       "      <td>12.51</td>\n",
       "      <td>42.00</td>\n",
       "    </tr>\n",
       "    <tr>\n",
       "      <th>9</th>\n",
       "      <td>Australia</td>\n",
       "      <td>81.90</td>\n",
       "      <td>4.55</td>\n",
       "      <td>76.00</td>\n",
       "    </tr>\n",
       "    <tr>\n",
       "      <th>10</th>\n",
       "      <td>Austria</td>\n",
       "      <td>79.91</td>\n",
       "      <td>4.26</td>\n",
       "      <td>72.70</td>\n",
       "    </tr>\n",
       "    <tr>\n",
       "      <th>11</th>\n",
       "      <td>Azerbaijan</td>\n",
       "      <td>71.32</td>\n",
       "      <td>28.76</td>\n",
       "      <td>46.00</td>\n",
       "    </tr>\n",
       "    <tr>\n",
       "      <th>12</th>\n",
       "      <td>Bahamas, The</td>\n",
       "      <td>71.44</td>\n",
       "      <td>13.09</td>\n",
       "      <td>43.00</td>\n",
       "    </tr>\n",
       "    <tr>\n",
       "      <th>13</th>\n",
       "      <td>Bahrain</td>\n",
       "      <td>78.29</td>\n",
       "      <td>10.20</td>\n",
       "      <td>55.00</td>\n",
       "    </tr>\n",
       "    <tr>\n",
       "      <th>14</th>\n",
       "      <td>Bangladesh</td>\n",
       "      <td>70.06</td>\n",
       "      <td>48.99</td>\n",
       "      <td>3.70</td>\n",
       "    </tr>\n",
       "    <tr>\n",
       "      <th>15</th>\n",
       "      <td>Barbados</td>\n",
       "      <td>74.52</td>\n",
       "      <td>11.63</td>\n",
       "      <td>70.20</td>\n",
       "    </tr>\n",
       "    <tr>\n",
       "      <th>16</th>\n",
       "      <td>Belarus</td>\n",
       "      <td>71.48</td>\n",
       "      <td>6.16</td>\n",
       "      <td>31.70</td>\n",
       "    </tr>\n",
       "    <tr>\n",
       "      <th>17</th>\n",
       "      <td>Belgium</td>\n",
       "      <td>79.65</td>\n",
       "      <td>4.28</td>\n",
       "      <td>75.00</td>\n",
       "    </tr>\n",
       "    <tr>\n",
       "      <th>18</th>\n",
       "      <td>Belize</td>\n",
       "      <td>68.28</td>\n",
       "      <td>21.37</td>\n",
       "      <td>14.00</td>\n",
       "    </tr>\n",
       "    <tr>\n",
       "      <th>19</th>\n",
       "      <td>Benin</td>\n",
       "      <td>60.26</td>\n",
       "      <td>60.03</td>\n",
       "      <td>3.13</td>\n",
       "    </tr>\n",
       "    <tr>\n",
       "      <th>20</th>\n",
       "      <td>Bermuda</td>\n",
       "      <td>80.82</td>\n",
       "      <td>2.47</td>\n",
       "      <td>84.21</td>\n",
       "    </tr>\n",
       "    <tr>\n",
       "      <th>21</th>\n",
       "      <td>Bhutan</td>\n",
       "      <td>67.88</td>\n",
       "      <td>42.17</td>\n",
       "      <td>13.60</td>\n",
       "    </tr>\n",
       "    <tr>\n",
       "      <th>22</th>\n",
       "      <td>Bolivia</td>\n",
       "      <td>67.90</td>\n",
       "      <td>40.94</td>\n",
       "      <td>20.00</td>\n",
       "    </tr>\n",
       "    <tr>\n",
       "      <th>23</th>\n",
       "      <td>Bosnia and Herzegovina</td>\n",
       "      <td>78.96</td>\n",
       "      <td>8.47</td>\n",
       "      <td>52.00</td>\n",
       "    </tr>\n",
       "    <tr>\n",
       "      <th>24</th>\n",
       "      <td>Botswana</td>\n",
       "      <td>55.74</td>\n",
       "      <td>10.49</td>\n",
       "      <td>6.00</td>\n",
       "    </tr>\n",
       "    <tr>\n",
       "      <th>25</th>\n",
       "      <td>Brazil</td>\n",
       "      <td>72.79</td>\n",
       "      <td>20.50</td>\n",
       "      <td>40.65</td>\n",
       "    </tr>\n",
       "    <tr>\n",
       "      <th>26</th>\n",
       "      <td>British Virgin Islands</td>\n",
       "      <td>77.95</td>\n",
       "      <td>14.43</td>\n",
       "      <td>39.00</td>\n",
       "    </tr>\n",
       "    <tr>\n",
       "      <th>27</th>\n",
       "      <td>Brunei</td>\n",
       "      <td>76.37</td>\n",
       "      <td>11.15</td>\n",
       "      <td>50.00</td>\n",
       "    </tr>\n",
       "    <tr>\n",
       "      <th>28</th>\n",
       "      <td>Bulgaria</td>\n",
       "      <td>73.84</td>\n",
       "      <td>16.13</td>\n",
       "      <td>46.23</td>\n",
       "    </tr>\n",
       "    <tr>\n",
       "      <th>29</th>\n",
       "      <td>Burkina Faso</td>\n",
       "      <td>54.07</td>\n",
       "      <td>79.84</td>\n",
       "      <td>1.40</td>\n",
       "    </tr>\n",
       "    <tr>\n",
       "      <th>...</th>\n",
       "      <td>...</td>\n",
       "      <td>...</td>\n",
       "      <td>...</td>\n",
       "      <td>...</td>\n",
       "    </tr>\n",
       "    <tr>\n",
       "      <th>189</th>\n",
       "      <td>Tajikistan</td>\n",
       "      <td>66.38</td>\n",
       "      <td>37.33</td>\n",
       "      <td>11.55</td>\n",
       "    </tr>\n",
       "    <tr>\n",
       "      <th>190</th>\n",
       "      <td>Tanzania</td>\n",
       "      <td>53.14</td>\n",
       "      <td>65.74</td>\n",
       "      <td>11.00</td>\n",
       "    </tr>\n",
       "    <tr>\n",
       "      <th>191</th>\n",
       "      <td>Thailand</td>\n",
       "      <td>73.83</td>\n",
       "      <td>15.90</td>\n",
       "      <td>21.20</td>\n",
       "    </tr>\n",
       "    <tr>\n",
       "      <th>192</th>\n",
       "      <td>Timor-Leste</td>\n",
       "      <td>68.27</td>\n",
       "      <td>36.78</td>\n",
       "      <td>0.21</td>\n",
       "    </tr>\n",
       "    <tr>\n",
       "      <th>193</th>\n",
       "      <td>Togo</td>\n",
       "      <td>63.17</td>\n",
       "      <td>49.87</td>\n",
       "      <td>5.38</td>\n",
       "    </tr>\n",
       "    <tr>\n",
       "      <th>194</th>\n",
       "      <td>Tonga</td>\n",
       "      <td>75.38</td>\n",
       "      <td>13.21</td>\n",
       "      <td>12.00</td>\n",
       "    </tr>\n",
       "    <tr>\n",
       "      <th>195</th>\n",
       "      <td>Trinidad and Tobago</td>\n",
       "      <td>71.67</td>\n",
       "      <td>26.73</td>\n",
       "      <td>48.50</td>\n",
       "    </tr>\n",
       "    <tr>\n",
       "      <th>196</th>\n",
       "      <td>Tunisia</td>\n",
       "      <td>75.24</td>\n",
       "      <td>24.98</td>\n",
       "      <td>36.80</td>\n",
       "    </tr>\n",
       "    <tr>\n",
       "      <th>197</th>\n",
       "      <td>Turkey</td>\n",
       "      <td>72.77</td>\n",
       "      <td>23.07</td>\n",
       "      <td>39.82</td>\n",
       "    </tr>\n",
       "    <tr>\n",
       "      <th>198</th>\n",
       "      <td>Turkmenistan</td>\n",
       "      <td>68.84</td>\n",
       "      <td>40.89</td>\n",
       "      <td>2.20</td>\n",
       "    </tr>\n",
       "    <tr>\n",
       "      <th>199</th>\n",
       "      <td>Turks and Caicos Islands</td>\n",
       "      <td>79.26</td>\n",
       "      <td>11.63</td>\n",
       "      <td>NaN</td>\n",
       "    </tr>\n",
       "    <tr>\n",
       "      <th>200</th>\n",
       "      <td>Tuvalu</td>\n",
       "      <td>65.11</td>\n",
       "      <td>33.55</td>\n",
       "      <td>25.00</td>\n",
       "    </tr>\n",
       "    <tr>\n",
       "      <th>201</th>\n",
       "      <td>Uganda</td>\n",
       "      <td>53.45</td>\n",
       "      <td>61.22</td>\n",
       "      <td>12.50</td>\n",
       "    </tr>\n",
       "    <tr>\n",
       "      <th>202</th>\n",
       "      <td>Ukraine</td>\n",
       "      <td>68.74</td>\n",
       "      <td>8.38</td>\n",
       "      <td>45.00</td>\n",
       "    </tr>\n",
       "    <tr>\n",
       "      <th>203</th>\n",
       "      <td>United Arab Emirates</td>\n",
       "      <td>76.71</td>\n",
       "      <td>11.59</td>\n",
       "      <td>78.00</td>\n",
       "    </tr>\n",
       "    <tr>\n",
       "      <th>204</th>\n",
       "      <td>United Kingdom</td>\n",
       "      <td>80.17</td>\n",
       "      <td>4.56</td>\n",
       "      <td>85.00</td>\n",
       "    </tr>\n",
       "    <tr>\n",
       "      <th>205</th>\n",
       "      <td>United States</td>\n",
       "      <td>78.49</td>\n",
       "      <td>5.98</td>\n",
       "      <td>74.00</td>\n",
       "    </tr>\n",
       "    <tr>\n",
       "      <th>206</th>\n",
       "      <td>Uruguay</td>\n",
       "      <td>76.41</td>\n",
       "      <td>9.44</td>\n",
       "      <td>47.70</td>\n",
       "    </tr>\n",
       "    <tr>\n",
       "      <th>207</th>\n",
       "      <td>Uzbekistan</td>\n",
       "      <td>72.77</td>\n",
       "      <td>21.20</td>\n",
       "      <td>20.00</td>\n",
       "    </tr>\n",
       "    <tr>\n",
       "      <th>208</th>\n",
       "      <td>Vanuatu</td>\n",
       "      <td>65.06</td>\n",
       "      <td>45.57</td>\n",
       "      <td>8.00</td>\n",
       "    </tr>\n",
       "    <tr>\n",
       "      <th>209</th>\n",
       "      <td>Venezuela</td>\n",
       "      <td>74.08</td>\n",
       "      <td>20.18</td>\n",
       "      <td>35.67</td>\n",
       "    </tr>\n",
       "    <tr>\n",
       "      <th>210</th>\n",
       "      <td>Vietnam</td>\n",
       "      <td>72.41</td>\n",
       "      <td>20.24</td>\n",
       "      <td>27.56</td>\n",
       "    </tr>\n",
       "    <tr>\n",
       "      <th>211</th>\n",
       "      <td>Virgin Islands</td>\n",
       "      <td>79.47</td>\n",
       "      <td>7.09</td>\n",
       "      <td>0.00</td>\n",
       "    </tr>\n",
       "    <tr>\n",
       "      <th>212</th>\n",
       "      <td>Wallis and Futuna</td>\n",
       "      <td>79.12</td>\n",
       "      <td>4.61</td>\n",
       "      <td>0.00</td>\n",
       "    </tr>\n",
       "    <tr>\n",
       "      <th>213</th>\n",
       "      <td>West Bank</td>\n",
       "      <td>75.24</td>\n",
       "      <td>14.47</td>\n",
       "      <td>NaN</td>\n",
       "    </tr>\n",
       "    <tr>\n",
       "      <th>214</th>\n",
       "      <td>Western Sahara</td>\n",
       "      <td>61.52</td>\n",
       "      <td>58.96</td>\n",
       "      <td>NaN</td>\n",
       "    </tr>\n",
       "    <tr>\n",
       "      <th>215</th>\n",
       "      <td>Yemen</td>\n",
       "      <td>64.11</td>\n",
       "      <td>53.50</td>\n",
       "      <td>12.35</td>\n",
       "    </tr>\n",
       "    <tr>\n",
       "      <th>216</th>\n",
       "      <td>Zambia</td>\n",
       "      <td>52.57</td>\n",
       "      <td>64.61</td>\n",
       "      <td>10.00</td>\n",
       "    </tr>\n",
       "    <tr>\n",
       "      <th>217</th>\n",
       "      <td>Zimbabwe</td>\n",
       "      <td>51.82</td>\n",
       "      <td>28.23</td>\n",
       "      <td>11.50</td>\n",
       "    </tr>\n",
       "    <tr>\n",
       "      <th>218</th>\n",
       "      <td>Afghanistan</td>\n",
       "      <td>49.72</td>\n",
       "      <td>121.63</td>\n",
       "      <td>4.00</td>\n",
       "    </tr>\n",
       "  </tbody>\n",
       "</table>\n",
       "<p>219 rows × 4 columns</p>\n",
       "</div>"
      ],
      "text/plain": [
       "                         pais  esp_vida  ind_mort  internet\n",
       "0                     Algeria     74.73     24.90     12.50\n",
       "1              American Samoa     74.44      9.42       NaN\n",
       "2                     Andorra     82.50      3.76     81.00\n",
       "3                      Angola     54.59     83.53     10.00\n",
       "4                    Anguilla     80.98      3.44      0.00\n",
       "5         Antigua and Barbuda     75.69     14.17     80.00\n",
       "6                   Argentina     77.14     10.52     36.00\n",
       "7                     Armenia     73.49     18.21     44.00\n",
       "8                       Aruba     75.93     12.51     42.00\n",
       "9                   Australia     81.90      4.55     76.00\n",
       "10                    Austria     79.91      4.26     72.70\n",
       "11                 Azerbaijan     71.32     28.76     46.00\n",
       "12               Bahamas, The     71.44     13.09     43.00\n",
       "13                    Bahrain     78.29     10.20     55.00\n",
       "14                 Bangladesh     70.06     48.99      3.70\n",
       "15                   Barbados     74.52     11.63     70.20\n",
       "16                    Belarus     71.48      6.16     31.70\n",
       "17                    Belgium     79.65      4.28     75.00\n",
       "18                     Belize     68.28     21.37     14.00\n",
       "19                      Benin     60.26     60.03      3.13\n",
       "20                    Bermuda     80.82      2.47     84.21\n",
       "21                     Bhutan     67.88     42.17     13.60\n",
       "22                    Bolivia     67.90     40.94     20.00\n",
       "23     Bosnia and Herzegovina     78.96      8.47     52.00\n",
       "24                   Botswana     55.74     10.49      6.00\n",
       "25                     Brazil     72.79     20.50     40.65\n",
       "26     British Virgin Islands     77.95     14.43     39.00\n",
       "27                     Brunei     76.37     11.15     50.00\n",
       "28                   Bulgaria     73.84     16.13     46.23\n",
       "29               Burkina Faso     54.07     79.84      1.40\n",
       "..                        ...       ...       ...       ...\n",
       "189                Tajikistan     66.38     37.33     11.55\n",
       "190                  Tanzania     53.14     65.74     11.00\n",
       "191                  Thailand     73.83     15.90     21.20\n",
       "192               Timor-Leste     68.27     36.78      0.21\n",
       "193                      Togo     63.17     49.87      5.38\n",
       "194                     Tonga     75.38     13.21     12.00\n",
       "195       Trinidad and Tobago     71.67     26.73     48.50\n",
       "196                   Tunisia     75.24     24.98     36.80\n",
       "197                    Turkey     72.77     23.07     39.82\n",
       "198              Turkmenistan     68.84     40.89      2.20\n",
       "199  Turks and Caicos Islands     79.26     11.63       NaN\n",
       "200                    Tuvalu     65.11     33.55     25.00\n",
       "201                    Uganda     53.45     61.22     12.50\n",
       "202                   Ukraine     68.74      8.38     45.00\n",
       "203      United Arab Emirates     76.71     11.59     78.00\n",
       "204            United Kingdom     80.17      4.56     85.00\n",
       "205             United States     78.49      5.98     74.00\n",
       "206                   Uruguay     76.41      9.44     47.70\n",
       "207                Uzbekistan     72.77     21.20     20.00\n",
       "208                   Vanuatu     65.06     45.57      8.00\n",
       "209                 Venezuela     74.08     20.18     35.67\n",
       "210                   Vietnam     72.41     20.24     27.56\n",
       "211            Virgin Islands     79.47      7.09      0.00\n",
       "212         Wallis and Futuna     79.12      4.61      0.00\n",
       "213                 West Bank     75.24     14.47       NaN\n",
       "214            Western Sahara     61.52     58.96       NaN\n",
       "215                     Yemen     64.11     53.50     12.35\n",
       "216                    Zambia     52.57     64.61     10.00\n",
       "217                  Zimbabwe     51.82     28.23     11.50\n",
       "218               Afghanistan     49.72    121.63      4.00\n",
       "\n",
       "[219 rows x 4 columns]"
      ]
     },
     "execution_count": 34,
     "metadata": {},
     "output_type": "execute_result"
    }
   ],
   "source": [
    "data=data.append(nueva_linea, ignore_index=True)\n",
    "data"
   ]
  },
  {
   "cell_type": "code",
   "execution_count": 35,
   "metadata": {
    "collapsed": false
   },
   "outputs": [
    {
     "data": {
      "text/html": [
       "<div>\n",
       "<table border=\"1\" class=\"dataframe\">\n",
       "  <thead>\n",
       "    <tr style=\"text-align: right;\">\n",
       "      <th></th>\n",
       "      <th>pais</th>\n",
       "      <th>esp_vida</th>\n",
       "      <th>ind_mort</th>\n",
       "      <th>internet</th>\n",
       "    </tr>\n",
       "  </thead>\n",
       "  <tbody>\n",
       "    <tr>\n",
       "      <th>0</th>\n",
       "      <td>Algeria</td>\n",
       "      <td>74.73</td>\n",
       "      <td>24.90</td>\n",
       "      <td>12.50</td>\n",
       "    </tr>\n",
       "    <tr>\n",
       "      <th>1</th>\n",
       "      <td>American Samoa</td>\n",
       "      <td>74.44</td>\n",
       "      <td>9.42</td>\n",
       "      <td>NaN</td>\n",
       "    </tr>\n",
       "    <tr>\n",
       "      <th>2</th>\n",
       "      <td>Andorra</td>\n",
       "      <td>82.50</td>\n",
       "      <td>3.76</td>\n",
       "      <td>81.00</td>\n",
       "    </tr>\n",
       "    <tr>\n",
       "      <th>3</th>\n",
       "      <td>Angola</td>\n",
       "      <td>54.59</td>\n",
       "      <td>83.53</td>\n",
       "      <td>10.00</td>\n",
       "    </tr>\n",
       "    <tr>\n",
       "      <th>4</th>\n",
       "      <td>Anguilla</td>\n",
       "      <td>80.98</td>\n",
       "      <td>3.44</td>\n",
       "      <td>0.00</td>\n",
       "    </tr>\n",
       "    <tr>\n",
       "      <th>5</th>\n",
       "      <td>Antigua and Barbuda</td>\n",
       "      <td>75.69</td>\n",
       "      <td>14.17</td>\n",
       "      <td>80.00</td>\n",
       "    </tr>\n",
       "    <tr>\n",
       "      <th>6</th>\n",
       "      <td>Argentina</td>\n",
       "      <td>77.14</td>\n",
       "      <td>10.52</td>\n",
       "      <td>36.00</td>\n",
       "    </tr>\n",
       "    <tr>\n",
       "      <th>7</th>\n",
       "      <td>Armenia</td>\n",
       "      <td>73.49</td>\n",
       "      <td>18.21</td>\n",
       "      <td>44.00</td>\n",
       "    </tr>\n",
       "    <tr>\n",
       "      <th>8</th>\n",
       "      <td>Aruba</td>\n",
       "      <td>75.93</td>\n",
       "      <td>12.51</td>\n",
       "      <td>42.00</td>\n",
       "    </tr>\n",
       "    <tr>\n",
       "      <th>9</th>\n",
       "      <td>Australia</td>\n",
       "      <td>81.90</td>\n",
       "      <td>4.55</td>\n",
       "      <td>76.00</td>\n",
       "    </tr>\n",
       "    <tr>\n",
       "      <th>10</th>\n",
       "      <td>Austria</td>\n",
       "      <td>79.91</td>\n",
       "      <td>4.26</td>\n",
       "      <td>72.70</td>\n",
       "    </tr>\n",
       "    <tr>\n",
       "      <th>11</th>\n",
       "      <td>Azerbaijan</td>\n",
       "      <td>71.32</td>\n",
       "      <td>28.76</td>\n",
       "      <td>46.00</td>\n",
       "    </tr>\n",
       "    <tr>\n",
       "      <th>12</th>\n",
       "      <td>Bahamas, The</td>\n",
       "      <td>71.44</td>\n",
       "      <td>13.09</td>\n",
       "      <td>43.00</td>\n",
       "    </tr>\n",
       "    <tr>\n",
       "      <th>13</th>\n",
       "      <td>Bahrain</td>\n",
       "      <td>78.29</td>\n",
       "      <td>10.20</td>\n",
       "      <td>55.00</td>\n",
       "    </tr>\n",
       "    <tr>\n",
       "      <th>14</th>\n",
       "      <td>Bangladesh</td>\n",
       "      <td>70.06</td>\n",
       "      <td>48.99</td>\n",
       "      <td>3.70</td>\n",
       "    </tr>\n",
       "    <tr>\n",
       "      <th>15</th>\n",
       "      <td>Barbados</td>\n",
       "      <td>74.52</td>\n",
       "      <td>11.63</td>\n",
       "      <td>70.20</td>\n",
       "    </tr>\n",
       "    <tr>\n",
       "      <th>16</th>\n",
       "      <td>Belarus</td>\n",
       "      <td>71.48</td>\n",
       "      <td>6.16</td>\n",
       "      <td>31.70</td>\n",
       "    </tr>\n",
       "    <tr>\n",
       "      <th>17</th>\n",
       "      <td>Belgium</td>\n",
       "      <td>79.65</td>\n",
       "      <td>4.28</td>\n",
       "      <td>75.00</td>\n",
       "    </tr>\n",
       "    <tr>\n",
       "      <th>18</th>\n",
       "      <td>Belize</td>\n",
       "      <td>68.28</td>\n",
       "      <td>21.37</td>\n",
       "      <td>14.00</td>\n",
       "    </tr>\n",
       "    <tr>\n",
       "      <th>19</th>\n",
       "      <td>Benin</td>\n",
       "      <td>60.26</td>\n",
       "      <td>60.03</td>\n",
       "      <td>3.13</td>\n",
       "    </tr>\n",
       "    <tr>\n",
       "      <th>20</th>\n",
       "      <td>Bermuda</td>\n",
       "      <td>80.82</td>\n",
       "      <td>2.47</td>\n",
       "      <td>84.21</td>\n",
       "    </tr>\n",
       "    <tr>\n",
       "      <th>21</th>\n",
       "      <td>Bhutan</td>\n",
       "      <td>67.88</td>\n",
       "      <td>42.17</td>\n",
       "      <td>13.60</td>\n",
       "    </tr>\n",
       "    <tr>\n",
       "      <th>22</th>\n",
       "      <td>Bolivia</td>\n",
       "      <td>67.90</td>\n",
       "      <td>40.94</td>\n",
       "      <td>20.00</td>\n",
       "    </tr>\n",
       "    <tr>\n",
       "      <th>23</th>\n",
       "      <td>Bosnia and Herzegovina</td>\n",
       "      <td>78.96</td>\n",
       "      <td>8.47</td>\n",
       "      <td>52.00</td>\n",
       "    </tr>\n",
       "    <tr>\n",
       "      <th>24</th>\n",
       "      <td>Botswana</td>\n",
       "      <td>55.74</td>\n",
       "      <td>10.49</td>\n",
       "      <td>6.00</td>\n",
       "    </tr>\n",
       "    <tr>\n",
       "      <th>25</th>\n",
       "      <td>Brazil</td>\n",
       "      <td>72.79</td>\n",
       "      <td>20.50</td>\n",
       "      <td>40.65</td>\n",
       "    </tr>\n",
       "    <tr>\n",
       "      <th>26</th>\n",
       "      <td>British Virgin Islands</td>\n",
       "      <td>77.95</td>\n",
       "      <td>14.43</td>\n",
       "      <td>39.00</td>\n",
       "    </tr>\n",
       "    <tr>\n",
       "      <th>27</th>\n",
       "      <td>Brunei</td>\n",
       "      <td>76.37</td>\n",
       "      <td>11.15</td>\n",
       "      <td>50.00</td>\n",
       "    </tr>\n",
       "    <tr>\n",
       "      <th>28</th>\n",
       "      <td>Bulgaria</td>\n",
       "      <td>73.84</td>\n",
       "      <td>16.13</td>\n",
       "      <td>46.23</td>\n",
       "    </tr>\n",
       "    <tr>\n",
       "      <th>29</th>\n",
       "      <td>Burkina Faso</td>\n",
       "      <td>54.07</td>\n",
       "      <td>79.84</td>\n",
       "      <td>1.40</td>\n",
       "    </tr>\n",
       "    <tr>\n",
       "      <th>...</th>\n",
       "      <td>...</td>\n",
       "      <td>...</td>\n",
       "      <td>...</td>\n",
       "      <td>...</td>\n",
       "    </tr>\n",
       "    <tr>\n",
       "      <th>190</th>\n",
       "      <td>Tanzania</td>\n",
       "      <td>53.14</td>\n",
       "      <td>65.74</td>\n",
       "      <td>11.00</td>\n",
       "    </tr>\n",
       "    <tr>\n",
       "      <th>191</th>\n",
       "      <td>Thailand</td>\n",
       "      <td>73.83</td>\n",
       "      <td>15.90</td>\n",
       "      <td>21.20</td>\n",
       "    </tr>\n",
       "    <tr>\n",
       "      <th>192</th>\n",
       "      <td>Timor-Leste</td>\n",
       "      <td>68.27</td>\n",
       "      <td>36.78</td>\n",
       "      <td>0.21</td>\n",
       "    </tr>\n",
       "    <tr>\n",
       "      <th>193</th>\n",
       "      <td>Togo</td>\n",
       "      <td>63.17</td>\n",
       "      <td>49.87</td>\n",
       "      <td>5.38</td>\n",
       "    </tr>\n",
       "    <tr>\n",
       "      <th>194</th>\n",
       "      <td>Tonga</td>\n",
       "      <td>75.38</td>\n",
       "      <td>13.21</td>\n",
       "      <td>12.00</td>\n",
       "    </tr>\n",
       "    <tr>\n",
       "      <th>195</th>\n",
       "      <td>Trinidad and Tobago</td>\n",
       "      <td>71.67</td>\n",
       "      <td>26.73</td>\n",
       "      <td>48.50</td>\n",
       "    </tr>\n",
       "    <tr>\n",
       "      <th>196</th>\n",
       "      <td>Tunisia</td>\n",
       "      <td>75.24</td>\n",
       "      <td>24.98</td>\n",
       "      <td>36.80</td>\n",
       "    </tr>\n",
       "    <tr>\n",
       "      <th>197</th>\n",
       "      <td>Turkey</td>\n",
       "      <td>72.77</td>\n",
       "      <td>23.07</td>\n",
       "      <td>39.82</td>\n",
       "    </tr>\n",
       "    <tr>\n",
       "      <th>198</th>\n",
       "      <td>Turkmenistan</td>\n",
       "      <td>68.84</td>\n",
       "      <td>40.89</td>\n",
       "      <td>2.20</td>\n",
       "    </tr>\n",
       "    <tr>\n",
       "      <th>199</th>\n",
       "      <td>Turks and Caicos Islands</td>\n",
       "      <td>79.26</td>\n",
       "      <td>11.63</td>\n",
       "      <td>NaN</td>\n",
       "    </tr>\n",
       "    <tr>\n",
       "      <th>200</th>\n",
       "      <td>Tuvalu</td>\n",
       "      <td>65.11</td>\n",
       "      <td>33.55</td>\n",
       "      <td>25.00</td>\n",
       "    </tr>\n",
       "    <tr>\n",
       "      <th>201</th>\n",
       "      <td>Uganda</td>\n",
       "      <td>53.45</td>\n",
       "      <td>61.22</td>\n",
       "      <td>12.50</td>\n",
       "    </tr>\n",
       "    <tr>\n",
       "      <th>202</th>\n",
       "      <td>Ukraine</td>\n",
       "      <td>68.74</td>\n",
       "      <td>8.38</td>\n",
       "      <td>45.00</td>\n",
       "    </tr>\n",
       "    <tr>\n",
       "      <th>203</th>\n",
       "      <td>United Arab Emirates</td>\n",
       "      <td>76.71</td>\n",
       "      <td>11.59</td>\n",
       "      <td>78.00</td>\n",
       "    </tr>\n",
       "    <tr>\n",
       "      <th>204</th>\n",
       "      <td>United Kingdom</td>\n",
       "      <td>80.17</td>\n",
       "      <td>4.56</td>\n",
       "      <td>85.00</td>\n",
       "    </tr>\n",
       "    <tr>\n",
       "      <th>205</th>\n",
       "      <td>United States</td>\n",
       "      <td>78.49</td>\n",
       "      <td>5.98</td>\n",
       "      <td>74.00</td>\n",
       "    </tr>\n",
       "    <tr>\n",
       "      <th>206</th>\n",
       "      <td>Uruguay</td>\n",
       "      <td>76.41</td>\n",
       "      <td>9.44</td>\n",
       "      <td>47.70</td>\n",
       "    </tr>\n",
       "    <tr>\n",
       "      <th>207</th>\n",
       "      <td>Uzbekistan</td>\n",
       "      <td>72.77</td>\n",
       "      <td>21.20</td>\n",
       "      <td>20.00</td>\n",
       "    </tr>\n",
       "    <tr>\n",
       "      <th>208</th>\n",
       "      <td>Vanuatu</td>\n",
       "      <td>65.06</td>\n",
       "      <td>45.57</td>\n",
       "      <td>8.00</td>\n",
       "    </tr>\n",
       "    <tr>\n",
       "      <th>209</th>\n",
       "      <td>Venezuela</td>\n",
       "      <td>74.08</td>\n",
       "      <td>20.18</td>\n",
       "      <td>35.67</td>\n",
       "    </tr>\n",
       "    <tr>\n",
       "      <th>210</th>\n",
       "      <td>Vietnam</td>\n",
       "      <td>72.41</td>\n",
       "      <td>20.24</td>\n",
       "      <td>27.56</td>\n",
       "    </tr>\n",
       "    <tr>\n",
       "      <th>211</th>\n",
       "      <td>Virgin Islands</td>\n",
       "      <td>79.47</td>\n",
       "      <td>7.09</td>\n",
       "      <td>0.00</td>\n",
       "    </tr>\n",
       "    <tr>\n",
       "      <th>212</th>\n",
       "      <td>Wallis and Futuna</td>\n",
       "      <td>79.12</td>\n",
       "      <td>4.61</td>\n",
       "      <td>0.00</td>\n",
       "    </tr>\n",
       "    <tr>\n",
       "      <th>213</th>\n",
       "      <td>West Bank</td>\n",
       "      <td>75.24</td>\n",
       "      <td>14.47</td>\n",
       "      <td>NaN</td>\n",
       "    </tr>\n",
       "    <tr>\n",
       "      <th>214</th>\n",
       "      <td>Western Sahara</td>\n",
       "      <td>61.52</td>\n",
       "      <td>58.96</td>\n",
       "      <td>NaN</td>\n",
       "    </tr>\n",
       "    <tr>\n",
       "      <th>215</th>\n",
       "      <td>Yemen</td>\n",
       "      <td>64.11</td>\n",
       "      <td>53.50</td>\n",
       "      <td>12.35</td>\n",
       "    </tr>\n",
       "    <tr>\n",
       "      <th>216</th>\n",
       "      <td>Zambia</td>\n",
       "      <td>52.57</td>\n",
       "      <td>64.61</td>\n",
       "      <td>10.00</td>\n",
       "    </tr>\n",
       "    <tr>\n",
       "      <th>217</th>\n",
       "      <td>Zimbabwe</td>\n",
       "      <td>51.82</td>\n",
       "      <td>28.23</td>\n",
       "      <td>11.50</td>\n",
       "    </tr>\n",
       "    <tr>\n",
       "      <th>218</th>\n",
       "      <td>Afghanistan</td>\n",
       "      <td>49.72</td>\n",
       "      <td>121.63</td>\n",
       "      <td>4.00</td>\n",
       "    </tr>\n",
       "    <tr>\n",
       "      <th>219</th>\n",
       "      <td>Albania</td>\n",
       "      <td>77.59</td>\n",
       "      <td>14.12</td>\n",
       "      <td>45.00</td>\n",
       "    </tr>\n",
       "  </tbody>\n",
       "</table>\n",
       "<p>220 rows × 4 columns</p>\n",
       "</div>"
      ],
      "text/plain": [
       "                         pais  esp_vida  ind_mort  internet\n",
       "0                     Algeria     74.73     24.90     12.50\n",
       "1              American Samoa     74.44      9.42       NaN\n",
       "2                     Andorra     82.50      3.76     81.00\n",
       "3                      Angola     54.59     83.53     10.00\n",
       "4                    Anguilla     80.98      3.44      0.00\n",
       "5         Antigua and Barbuda     75.69     14.17     80.00\n",
       "6                   Argentina     77.14     10.52     36.00\n",
       "7                     Armenia     73.49     18.21     44.00\n",
       "8                       Aruba     75.93     12.51     42.00\n",
       "9                   Australia     81.90      4.55     76.00\n",
       "10                    Austria     79.91      4.26     72.70\n",
       "11                 Azerbaijan     71.32     28.76     46.00\n",
       "12               Bahamas, The     71.44     13.09     43.00\n",
       "13                    Bahrain     78.29     10.20     55.00\n",
       "14                 Bangladesh     70.06     48.99      3.70\n",
       "15                   Barbados     74.52     11.63     70.20\n",
       "16                    Belarus     71.48      6.16     31.70\n",
       "17                    Belgium     79.65      4.28     75.00\n",
       "18                     Belize     68.28     21.37     14.00\n",
       "19                      Benin     60.26     60.03      3.13\n",
       "20                    Bermuda     80.82      2.47     84.21\n",
       "21                     Bhutan     67.88     42.17     13.60\n",
       "22                    Bolivia     67.90     40.94     20.00\n",
       "23     Bosnia and Herzegovina     78.96      8.47     52.00\n",
       "24                   Botswana     55.74     10.49      6.00\n",
       "25                     Brazil     72.79     20.50     40.65\n",
       "26     British Virgin Islands     77.95     14.43     39.00\n",
       "27                     Brunei     76.37     11.15     50.00\n",
       "28                   Bulgaria     73.84     16.13     46.23\n",
       "29               Burkina Faso     54.07     79.84      1.40\n",
       "..                        ...       ...       ...       ...\n",
       "190                  Tanzania     53.14     65.74     11.00\n",
       "191                  Thailand     73.83     15.90     21.20\n",
       "192               Timor-Leste     68.27     36.78      0.21\n",
       "193                      Togo     63.17     49.87      5.38\n",
       "194                     Tonga     75.38     13.21     12.00\n",
       "195       Trinidad and Tobago     71.67     26.73     48.50\n",
       "196                   Tunisia     75.24     24.98     36.80\n",
       "197                    Turkey     72.77     23.07     39.82\n",
       "198              Turkmenistan     68.84     40.89      2.20\n",
       "199  Turks and Caicos Islands     79.26     11.63       NaN\n",
       "200                    Tuvalu     65.11     33.55     25.00\n",
       "201                    Uganda     53.45     61.22     12.50\n",
       "202                   Ukraine     68.74      8.38     45.00\n",
       "203      United Arab Emirates     76.71     11.59     78.00\n",
       "204            United Kingdom     80.17      4.56     85.00\n",
       "205             United States     78.49      5.98     74.00\n",
       "206                   Uruguay     76.41      9.44     47.70\n",
       "207                Uzbekistan     72.77     21.20     20.00\n",
       "208                   Vanuatu     65.06     45.57      8.00\n",
       "209                 Venezuela     74.08     20.18     35.67\n",
       "210                   Vietnam     72.41     20.24     27.56\n",
       "211            Virgin Islands     79.47      7.09      0.00\n",
       "212         Wallis and Futuna     79.12      4.61      0.00\n",
       "213                 West Bank     75.24     14.47       NaN\n",
       "214            Western Sahara     61.52     58.96       NaN\n",
       "215                     Yemen     64.11     53.50     12.35\n",
       "216                    Zambia     52.57     64.61     10.00\n",
       "217                  Zimbabwe     51.82     28.23     11.50\n",
       "218               Afghanistan     49.72    121.63      4.00\n",
       "219                   Albania     77.59     14.12     45.00\n",
       "\n",
       "[220 rows x 4 columns]"
      ]
     },
     "execution_count": 35,
     "metadata": {},
     "output_type": "execute_result"
    }
   ],
   "source": [
    "nueva_linea1 ={'pais':'Albania',\n",
    "             'esp_vida':77.59,\n",
    "             'ind_mort':14.12,\n",
    "             'internet':45.0}\n",
    "data=data.append(nueva_linea1, ignore_index=True)\n",
    "data"
   ]
  },
  {
   "cell_type": "code",
   "execution_count": null,
   "metadata": {
    "collapsed": true
   },
   "outputs": [],
   "source": []
  },
  {
   "cell_type": "code",
   "execution_count": 36,
   "metadata": {
    "collapsed": false,
    "scrolled": true
   },
   "outputs": [
    {
     "data": {
      "text/plain": [
       "218       Afghanistan\n",
       "219           Albania\n",
       "0             Algeria\n",
       "1      American Samoa\n",
       "2             Andorra\n",
       "Name: pais, dtype: object"
      ]
     },
     "execution_count": 36,
     "metadata": {},
     "output_type": "execute_result"
    }
   ],
   "source": [
    "# sort para pais en orden ascendente\n",
    "data.pais.sort_values().head()"
   ]
  },
  {
   "cell_type": "code",
   "execution_count": 37,
   "metadata": {
    "collapsed": false,
    "scrolled": true
   },
   "outputs": [
    {
     "data": {
      "text/plain": [
       "217          Zimbabwe\n",
       "216            Zambia\n",
       "215             Yemen\n",
       "214    Western Sahara\n",
       "213         West Bank\n",
       "Name: pais, dtype: object"
      ]
     },
     "execution_count": 37,
     "metadata": {},
     "output_type": "execute_result"
    }
   ],
   "source": [
    "# sort ien orden decendente a pais\n",
    "data.pais.sort_values(ascending=False).head()"
   ]
  },
  {
   "cell_type": "code",
   "execution_count": 38,
   "metadata": {
    "collapsed": false
   },
   "outputs": [
    {
     "data": {
      "text/html": [
       "<div>\n",
       "<table border=\"1\" class=\"dataframe\">\n",
       "  <thead>\n",
       "    <tr style=\"text-align: right;\">\n",
       "      <th></th>\n",
       "      <th>pais</th>\n",
       "      <th>esp_vida</th>\n",
       "      <th>ind_mort</th>\n",
       "      <th>internet</th>\n",
       "    </tr>\n",
       "  </thead>\n",
       "  <tbody>\n",
       "    <tr>\n",
       "      <th>38</th>\n",
       "      <td>Chad</td>\n",
       "      <td>48.69</td>\n",
       "      <td>93.61</td>\n",
       "      <td>1.70</td>\n",
       "    </tr>\n",
       "    <tr>\n",
       "      <th>81</th>\n",
       "      <td>Guinea-Bissau</td>\n",
       "      <td>49.11</td>\n",
       "      <td>94.40</td>\n",
       "      <td>2.45</td>\n",
       "    </tr>\n",
       "    <tr>\n",
       "      <th>179</th>\n",
       "      <td>South Africa</td>\n",
       "      <td>49.41</td>\n",
       "      <td>42.67</td>\n",
       "      <td>12.30</td>\n",
       "    </tr>\n",
       "    <tr>\n",
       "      <th>184</th>\n",
       "      <td>Swaziland</td>\n",
       "      <td>49.42</td>\n",
       "      <td>59.57</td>\n",
       "      <td>8.02</td>\n",
       "    </tr>\n",
       "    <tr>\n",
       "      <th>218</th>\n",
       "      <td>Afghanistan</td>\n",
       "      <td>49.72</td>\n",
       "      <td>121.63</td>\n",
       "      <td>4.00</td>\n",
       "    </tr>\n",
       "  </tbody>\n",
       "</table>\n",
       "</div>"
      ],
      "text/plain": [
       "              pais  esp_vida  ind_mort  internet\n",
       "38            Chad     48.69     93.61      1.70\n",
       "81   Guinea-Bissau     49.11     94.40      2.45\n",
       "179   South Africa     49.41     42.67     12.30\n",
       "184      Swaziland     49.42     59.57      8.02\n",
       "218    Afghanistan     49.72    121.63      4.00"
      ]
     },
     "execution_count": 38,
     "metadata": {},
     "output_type": "execute_result"
    }
   ],
   "source": [
    "# sort con retorno de dataframe por defecto en ascendente\n",
    "data.sort_values('esp_vida').head()"
   ]
  },
  {
   "cell_type": "code",
   "execution_count": 39,
   "metadata": {
    "collapsed": false,
    "scrolled": false
   },
   "outputs": [
    {
     "data": {
      "text/html": [
       "<div>\n",
       "<table border=\"1\" class=\"dataframe\">\n",
       "  <thead>\n",
       "    <tr style=\"text-align: right;\">\n",
       "      <th></th>\n",
       "      <th>pais</th>\n",
       "      <th>esp_vida</th>\n",
       "      <th>ind_mort</th>\n",
       "      <th>internet</th>\n",
       "    </tr>\n",
       "  </thead>\n",
       "  <tbody>\n",
       "    <tr>\n",
       "      <th>130</th>\n",
       "      <td>Monaco</td>\n",
       "      <td>89.68</td>\n",
       "      <td>1.80</td>\n",
       "      <td>75.0</td>\n",
       "    </tr>\n",
       "    <tr>\n",
       "      <th>116</th>\n",
       "      <td>Macau</td>\n",
       "      <td>84.43</td>\n",
       "      <td>3.17</td>\n",
       "      <td>56.8</td>\n",
       "    </tr>\n",
       "    <tr>\n",
       "      <th>97</th>\n",
       "      <td>Japan</td>\n",
       "      <td>83.91</td>\n",
       "      <td>2.21</td>\n",
       "      <td>78.2</td>\n",
       "    </tr>\n",
       "    <tr>\n",
       "      <th>174</th>\n",
       "      <td>Singapore</td>\n",
       "      <td>83.75</td>\n",
       "      <td>2.65</td>\n",
       "      <td>71.0</td>\n",
       "    </tr>\n",
       "    <tr>\n",
       "      <th>167</th>\n",
       "      <td>San Marino</td>\n",
       "      <td>83.07</td>\n",
       "      <td>4.65</td>\n",
       "      <td>0.0</td>\n",
       "    </tr>\n",
       "  </tbody>\n",
       "</table>\n",
       "</div>"
      ],
      "text/plain": [
       "           pais  esp_vida  ind_mort  internet\n",
       "130      Monaco     89.68      1.80      75.0\n",
       "116       Macau     84.43      3.17      56.8\n",
       "97        Japan     83.91      2.21      78.2\n",
       "174   Singapore     83.75      2.65      71.0\n",
       "167  San Marino     83.07      4.65       0.0"
      ]
     },
     "execution_count": 39,
     "metadata": {},
     "output_type": "execute_result"
    }
   ],
   "source": [
    "# sort con retorno de dataframe decendente\n",
    "data.sort_values('esp_vida', ascending=False).head()"
   ]
  },
  {
   "cell_type": "markdown",
   "metadata": {},
   "source": [
    "Graficos con pandas"
   ]
  },
  {
   "cell_type": "code",
   "execution_count": 61,
   "metadata": {
    "collapsed": true
   },
   "outputs": [],
   "source": [
    "%matplotlib inline"
   ]
  },
  {
   "cell_type": "code",
   "execution_count": 82,
   "metadata": {
    "collapsed": false
   },
   "outputs": [
    {
     "data": {
      "text/plain": [
       "<matplotlib.axes._subplots.AxesSubplot at 0x7f5cc6885650>"
      ]
     },
     "execution_count": 82,
     "metadata": {},
     "output_type": "execute_result"
    },
    {
     "data": {
      "image/png": "[encoded data removed]",
      "text/plain": [
       "<matplotlib.figure.Figure at 0x7f5cc689bb90>"
      ]
     },
     "metadata": {},
     "output_type": "display_data"
    }
   ],
   "source": [
    "data.plot()"
   ]
  },
  {
   "cell_type": "code",
   "execution_count": 83,
   "metadata": {
    "collapsed": false
   },
   "outputs": [
    {
     "data": {
      "text/plain": [
       "array([[<matplotlib.axes._subplots.AxesSubplot object at 0x7f5cc66cde10>,\n",
       "        <matplotlib.axes._subplots.AxesSubplot object at 0x7f5cc65e1150>],\n",
       "       [<matplotlib.axes._subplots.AxesSubplot object at 0x7f5cc6556f90>,\n",
       "        <matplotlib.axes._subplots.AxesSubplot object at 0x7f5cc64c5690>]], dtype=object)"
      ]
     },
     "execution_count": 83,
     "metadata": {},
     "output_type": "execute_result"
    },
    {
     "data": {
      "image/png": "[encoded data removed]",
      "text/plain": [
       "<matplotlib.figure.Figure at 0x7f5cc66d3e90>"
      ]
     },
     "metadata": {},
     "output_type": "display_data"
    }
   ],
   "source": [
    "data.hist()"
   ]
  },
  {
   "cell_type": "code",
   "execution_count": 84,
   "metadata": {
    "collapsed": false
   },
   "outputs": [
    {
     "data": {
      "text/plain": [
       "<matplotlib.axes._subplots.AxesSubplot at 0x7f5cc66b68d0>"
      ]
     },
     "execution_count": 84,
     "metadata": {},
     "output_type": "execute_result"
    },
    {
     "data": {
      "image/png": "[encoded data removed]",
      "text/plain": [
       "<matplotlib.figure.Figure at 0x7f5cc6382450>"
      ]
     },
     "metadata": {},
     "output_type": "display_data"
    }
   ],
   "source": [
    "data.esp_vida.hist()"
   ]
  },
  {
   "cell_type": "code",
   "execution_count": 85,
   "metadata": {
    "collapsed": false
   },
   "outputs": [
    {
     "data": {
      "text/plain": [
       "<matplotlib.axes._subplots.AxesSubplot at 0x7f5cc6364790>"
      ]
     },
     "execution_count": 85,
     "metadata": {},
     "output_type": "execute_result"
    },
    {
     "data": {
      "image/png": "[encoded data removed]",
      "text/plain": [
       "<matplotlib.figure.Figure at 0x7f5cc6274250>"
      ]
     },
     "metadata": {},
     "output_type": "display_data"
    }
   ],
   "source": [
    "data.boxplot(return_type='axes')"
   ]
  },
  {
   "cell_type": "code",
   "execution_count": 96,
   "metadata": {
    "collapsed": false
   },
   "outputs": [
    {
     "data": {
      "text/plain": [
       "<matplotlib.axes._subplots.AxesSubplot at 0x7f5cc57c5cd0>"
      ]
     },
     "execution_count": 96,
     "metadata": {},
     "output_type": "execute_result"
    },
    {
     "data": {
      "image/png": "[encoded data removed]",
      "text/plain": [
       "<matplotlib.figure.Figure at 0x7f5cc58e6450>"
      ]
     },
     "metadata": {},
     "output_type": "display_data"
    }
   ],
   "source": [
    "data.plot(x='internet', y='esp_vida', style='o')"
   ]
  },
  {
   "cell_type": "markdown",
   "metadata": {},
   "source": []
  },
  {
   "cell_type": "code",
   "execution_count": 99,
   "metadata": {
    "collapsed": false
   },
   "outputs": [
    {
     "data": {
      "text/html": [
       "<div>\n",
       "<table border=\"1\" class=\"dataframe\">\n",
       "  <thead>\n",
       "    <tr style=\"text-align: right;\">\n",
       "      <th></th>\n",
       "      <th>pais</th>\n",
       "      <th>esp_vida</th>\n",
       "      <th>ind_mort</th>\n",
       "      <th>internet</th>\n",
       "    </tr>\n",
       "  </thead>\n",
       "  <tbody>\n",
       "    <tr>\n",
       "      <th>87</th>\n",
       "      <td>Iceland</td>\n",
       "      <td>81.00</td>\n",
       "      <td>3.18</td>\n",
       "      <td>95.00</td>\n",
       "    </tr>\n",
       "    <tr>\n",
       "      <th>115</th>\n",
       "      <td>Luxembourg</td>\n",
       "      <td>79.75</td>\n",
       "      <td>4.39</td>\n",
       "      <td>90.00</td>\n",
       "    </tr>\n",
       "    <tr>\n",
       "      <th>138</th>\n",
       "      <td>Netherlands</td>\n",
       "      <td>80.91</td>\n",
       "      <td>3.73</td>\n",
       "      <td>90.72</td>\n",
       "    </tr>\n",
       "    <tr>\n",
       "      <th>145</th>\n",
       "      <td>Norway</td>\n",
       "      <td>80.32</td>\n",
       "      <td>3.50</td>\n",
       "      <td>93.39</td>\n",
       "    </tr>\n",
       "    <tr>\n",
       "      <th>185</th>\n",
       "      <td>Sweden</td>\n",
       "      <td>81.18</td>\n",
       "      <td>2.74</td>\n",
       "      <td>90.00</td>\n",
       "    </tr>\n",
       "  </tbody>\n",
       "</table>\n",
       "</div>"
      ],
      "text/plain": [
       "            pais  esp_vida  ind_mort  internet\n",
       "87       Iceland     81.00      3.18     95.00\n",
       "115   Luxembourg     79.75      4.39     90.00\n",
       "138  Netherlands     80.91      3.73     90.72\n",
       "145       Norway     80.32      3.50     93.39\n",
       "185       Sweden     81.18      2.74     90.00"
      ]
     },
     "execution_count": 99,
     "metadata": {},
     "output_type": "execute_result"
    }
   ],
   "source": [
    "data[data.internet>=90]"
   ]
  },
  {
   "cell_type": "code",
   "execution_count": 105,
   "metadata": {
    "collapsed": false
   },
   "outputs": [
    {
     "data": {
      "text/plain": [
       "(108, 4)"
      ]
     },
     "execution_count": 105,
     "metadata": {},
     "output_type": "execute_result"
    }
   ],
   "source": [
    "# Seleccion con dos condiciones\n",
    "# y = and = &\n",
    "# o = or = |\n",
    "# Se utiliza parentesis para varias condiciones.\n",
    "# Para buscar por categoría se puede utilizar el metodo isin\n",
    "data[(data.internet>=70)|(data.esp_vida<70)].shape"
   ]
  },
  {
   "cell_type": "markdown",
   "metadata": {
    "collapsed": true
   },
   "source": [
    "Str"
   ]
  },
  {
   "cell_type": "code",
   "execution_count": 106,
   "metadata": {
    "collapsed": false
   },
   "outputs": [
    {
     "data": {
      "text/plain": [
       "0           ALGERIA\n",
       "1    AMERICAN SAMOA\n",
       "2           ANDORRA\n",
       "3            ANGOLA\n",
       "4          ANGUILLA\n",
       "Name: pais, dtype: object"
      ]
     },
     "execution_count": 106,
     "metadata": {},
     "output_type": "execute_result"
    }
   ],
   "source": [
    "# Convirtiendo en mayusculas\n",
    "data.pais.str.upper().head()"
   ]
  },
  {
   "cell_type": "code",
   "execution_count": 111,
   "metadata": {
    "collapsed": false
   },
   "outputs": [
    {
     "data": {
      "text/plain": [
       "0    False\n",
       "1    False\n",
       "2    False\n",
       "3    False\n",
       "4    False\n",
       "Name: pais, dtype: bool"
      ]
     },
     "execution_count": 111,
     "metadata": {},
     "output_type": "execute_result"
    }
   ],
   "source": [
    "data.pais.str.contains('Peru').head()"
   ]
  },
  {
   "cell_type": "code",
   "execution_count": null,
   "metadata": {
    "collapsed": true
   },
   "outputs": [],
   "source": []
  }
 ],
 "metadata": {
  "celltoolbar": "Slideshow",
  "kernelspec": {
   "display_name": "Python 2",
   "language": "python",
   "name": "python2"
  },
  "language_info": {
   "codemirror_mode": {
    "name": "ipython",
    "version": 2
   },
   "file_extension": ".py",
   "mimetype": "text/x-python",
   "name": "python",
   "nbconvert_exporter": "python",
   "pygments_lexer": "ipython2",
   "version": "2.7.13"
  }
 },
 "nbformat": 4,
 "nbformat_minor": 0
}
