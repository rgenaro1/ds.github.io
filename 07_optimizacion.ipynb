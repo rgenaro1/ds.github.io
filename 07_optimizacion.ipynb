{
 "cells": [
  {
   "cell_type": "markdown",
   "metadata": {
    "collapsed": true
   },
   "source": [
    "Optimizacion"
   ]
  },
  {
   "cell_type": "code",
   "execution_count": 2,
   "metadata": {
    "collapsed": false,
    "scrolled": false
   },
   "outputs": [
    {
     "name": "stderr",
     "output_type": "stream",
     "text": [
      "/opt/anaconda/anaconda2/lib/python2.7/site-packages/matplotlib/font_manager.py:273: UserWarning: Matplotlib is building the font cache using fc-list. This may take a moment.\n",
      "  warnings.warn('Matplotlib is building the font cache using fc-list. This may take a moment.')\n"
     ]
    }
   ],
   "source": [
    "import scipy as sp\n",
    "import pandas as pd\n",
    "import numpy as np\n",
    "import sklearn as sk\n",
    "from matplotlib import pylab as plt\n",
    "plt.style.use('seaborn-notebook')\n",
    "%matplotlib inline"
   ]
  },
  {
   "cell_type": "markdown",
   "metadata": {},
   "source": [
    "Consideremos la siguiente funcion\n",
    "$$ F(x) = y = x^2-10x+29 $$"
   ]
  },
  {
   "cell_type": "code",
   "execution_count": 45,
   "metadata": {
    "collapsed": false
   },
   "outputs": [],
   "source": [
    "def f (x):\n",
    "    f = x**2-10*x+29\n",
    "    return f"
   ]
  },
  {
   "cell_type": "code",
   "execution_count": 48,
   "metadata": {
    "collapsed": false
   },
   "outputs": [
    {
     "data": {
      "text/plain": [
       "(0, 20)"
      ]
     },
     "execution_count": 48,
     "metadata": {},
     "output_type": "execute_result"
    },
    {
     "data": {
      "image/png": "[encoded data removed]",
      "text/plain": [
       "<matplotlib.figure.Figure at 0x7fe91100b050>"
      ]
     },
     "metadata": {},
     "output_type": "display_data"
    }
   ],
   "source": [
    "x = np.arange(0,10, 0.1)\n",
    "y = f(x)\n",
    "plt.plot(x, y)\n",
    "plt.xlim(0, 10) \n",
    "plt.ylim(0,20)"
   ]
  },
  {
   "cell_type": "code",
   "execution_count": null,
   "metadata": {
    "collapsed": true
   },
   "outputs": [],
   "source": []
  },
  {
   "cell_type": "code",
   "execution_count": null,
   "metadata": {
    "collapsed": true
   },
   "outputs": [],
   "source": []
  },
  {
   "cell_type": "code",
   "execution_count": 49,
   "metadata": {
    "collapsed": true
   },
   "outputs": [],
   "source": [
    "def f1 (x):\n",
    "    f1 = np.sin(x/5) * np.exp(x/10) + 5 * np.exp(-x/2)\n",
    "    return f1"
   ]
  },
  {
   "cell_type": "code",
   "execution_count": 50,
   "metadata": {
    "collapsed": false
   },
   "outputs": [
    {
     "data": {
      "text/plain": [
       "[<matplotlib.lines.Line2D at 0x7fe910e9d750>]"
      ]
     },
     "execution_count": 50,
     "metadata": {},
     "output_type": "execute_result"
    },
    {
     "data": {
      "image/png": "[encoded data removed]",
      "text/plain": [
       "<matplotlib.figure.Figure at 0x7fe910f0e050>"
      ]
     },
     "metadata": {},
     "output_type": "display_data"
    }
   ],
   "source": [
    "x = np.arange(0,30, 0.1)\n",
    "y = f1(x)\n",
    "plt.plot(x, y)"
   ]
  },
  {
   "cell_type": "code",
   "execution_count": 51,
   "metadata": {
    "collapsed": true
   },
   "outputs": [],
   "source": [
    "import scipy.optimize \n",
    "from scipy.optimize import minimize"
   ]
  },
  {
   "cell_type": "markdown",
   "metadata": {},
   "source": [
    "[Scipy Optimize](https://docs.scipy.org/doc/scipy/reference/optimize.html)"
   ]
  },
  {
   "cell_type": "code",
   "execution_count": 52,
   "metadata": {
    "collapsed": false
   },
   "outputs": [
    {
     "data": {
      "text/plain": [
       "      fun: 4.0000000000000036\n",
       " hess_inv: array([[ 0.50000001]])\n",
       "      jac: array([ 0.])\n",
       "  message: 'Optimization terminated successfully.'\n",
       "     nfev: 12\n",
       "      nit: 2\n",
       "     njev: 4\n",
       "   status: 0\n",
       "  success: True\n",
       "        x: array([ 5.00000005])"
      ]
     },
     "execution_count": 52,
     "metadata": {},
     "output_type": "execute_result"
    }
   ],
   "source": [
    "res=scipy.optimize.minimize(f,[2.],method='BFGS')\n",
    "res"
   ]
  },
  {
   "cell_type": "code",
   "execution_count": 53,
   "metadata": {
    "collapsed": false,
    "scrolled": true
   },
   "outputs": [
    {
     "data": {
      "text/plain": [
       "      fun: -11.898894665981265\n",
       " hess_inv: array([[ 1.67840334]])\n",
       "      jac: array([  1.19209290e-07])\n",
       "  message: 'Optimization terminated successfully.'\n",
       "     nfev: 18\n",
       "      nit: 5\n",
       "     njev: 6\n",
       "   status: 0\n",
       "  success: True\n",
       "        x: array([ 25.88019347])"
      ]
     },
     "execution_count": 53,
     "metadata": {},
     "output_type": "execute_result"
    }
   ],
   "source": [
    "res1=scipy.optimize.minimize(f,[30.],method='BFGS')\n",
    "res1"
   ]
  },
  {
   "cell_type": "code",
   "execution_count": 55,
   "metadata": {
    "collapsed": false
   },
   "outputs": [],
   "source": [
    "from scipy.optimize import differential_evolution\n",
    "res2=differential_evolution(f,[(1, 30)])"
   ]
  },
  {
   "cell_type": "code",
   "execution_count": 56,
   "metadata": {
    "collapsed": false
   },
   "outputs": [
    {
     "data": {
      "text/plain": [
       "     fun: array([-11.89889467])\n",
       "     jac: array([  9.59232693e-06])\n",
       " message: 'Optimization terminated successfully.'\n",
       "    nfev: 96\n",
       "     nit: 5\n",
       " success: True\n",
       "       x: array([ 25.88020932])"
      ]
     },
     "execution_count": 56,
     "metadata": {},
     "output_type": "execute_result"
    }
   ],
   "source": [
    "res2"
   ]
  },
  {
   "cell_type": "code",
   "execution_count": null,
   "metadata": {
    "collapsed": true
   },
   "outputs": [],
   "source": []
  },
  {
   "cell_type": "code",
   "execution_count": 80,
   "metadata": {
    "collapsed": false
   },
   "outputs": [
    {
     "name": "stdout",
     "output_type": "stream",
     "text": [
      "/home/ubuntu/caltech-ml\n"
     ]
    }
   ],
   "source": [
    "%cd /home/ubuntu/caltech-ml"
   ]
  },
  {
   "cell_type": "code",
   "execution_count": 87,
   "metadata": {
    "collapsed": false,
    "scrolled": true
   },
   "outputs": [
    {
     "name": "stdout",
     "output_type": "stream",
     "text": [
      "--2016-09-22 16:51:28--  http://youtube-dl/\n",
      "Resolving youtube-dl (youtube-dl)... failed: Name or service not known.\n",
      "wget: unable to resolve host address 'youtube-dl'\n",
      "--2016-09-22 16:51:28--  http://www.youtube.com/watch?v=eHsErlPJWUU&hd=1\n",
      "Resolving www.youtube.com (www.youtube.com)... 216.58.219.238, 2607:f8b0:4006:80c::200e\n",
      "Connecting to www.youtube.com (www.youtube.com)|216.58.219.238|:80... connected.\n",
      "HTTP request sent, awaiting response... 301 Moved Permanently\n",
      "Location: https://www.youtube.com/watch?v=eHsErlPJWUU&hd=1 [following]\n",
      "--2016-09-22 16:51:28--  https://www.youtube.com/watch?v=eHsErlPJWUU&hd=1\n",
      "Connecting to www.youtube.com (www.youtube.com)|216.58.219.238|:443... connected.\n",
      "HTTP request sent, awaiting response... 200 OK\n",
      "Length: unspecified [text/html]\n",
      "Saving to: 'watch?v=eHsErlPJWUU&hd=1'\n",
      "\n",
      "    [  <=>                                  ] 149,804      450KB/s   in 0.3s   \n",
      "\n",
      "2016-09-22 16:51:29 (450 KB/s) - 'watch?v=eHsErlPJWUU&hd=1' saved [149804]\n",
      "\n",
      "FINISHED --2016-09-22 16:51:29--\n",
      "Total wall clock time: 0.9s\n",
      "Downloaded: 1 files, 146K in 0.3s (450 KB/s)\n"
     ]
    }
   ],
   "source": [
    "!sudo wget youtube-dl 'http://www.youtube.com/watch?v=eHsErlPJWUU&hd=1'no"
   ]
  },
  {
   "cell_type": "code",
   "execution_count": 100,
   "metadata": {
    "collapsed": false
   },
   "outputs": [
    {
     "name": "stdout",
     "output_type": "stream",
     "text": [
      "total 8484\r\n",
      "drwxrwxrwx  2 ubuntu ubuntu    4096 Sep 22 16:51 caltech-ml\r\n",
      "drwxr-xr-x  6 ubuntu ubuntu    4096 Jul  6 11:41 coursera-notebooks\r\n",
      "drwxrwxrwx  6 ubuntu ubuntu    4096 Sep 22 17:29 curso\r\n",
      "drwxr-xr-x  6 ubuntu ubuntu    4096 Aug 31 02:46 curso-ruso\r\n",
      "drwxr-xr-x 19 ubuntu ubuntu    4096 Sep 11 13:37 dat\r\n",
      "drwxr-xr-x  4 ubuntu ubuntu    4096 Aug 22 21:02 math-ml\r\n",
      "-rw-r--r--  1 ubuntu ubuntu 8656899 Aug 26 18:06 os2_data.zip\r\n",
      "drwxrwxrwx 13 ubuntu ubuntu    4096 Sep 14 22:34 rgenaro1.github.io\r\n"
     ]
    }
   ],
   "source": [
    "!ls -l"
   ]
  },
  {
   "cell_type": "code",
   "execution_count": 106,
   "metadata": {
    "collapsed": false,
    "scrolled": false
   },
   "outputs": [
    {
     "name": "stdout",
     "output_type": "stream",
     "text": [
      "[youtube] eHsErlPJWUU: Downloading webpage\n",
      "[youtube] eHsErlPJWUU: Downloading video info webpage\n",
      "[youtube] eHsErlPJWUU: Extracting video information\n",
      "[youtube] eHsErlPJWUU: Downloading MPD manifest\n",
      "[download] Destination: Lecture 14 - Support Vector Machines-eHsErlPJWUU.mp4\n",
      "\u001b[K[download] 100% of 168.91MiB in 00:29\n",
      "[youtube] O8CfrnOPtLc: Downloading webpage\n",
      "[youtube] O8CfrnOPtLc: Downloading video info webpage\n",
      "[youtube] O8CfrnOPtLc: Extracting video information\n",
      "[youtube] O8CfrnOPtLc: Downloading MPD manifest\n",
      "[download] Destination: Lecture 16 - Radial Basis Functions-O8CfrnOPtLc.mp4\n",
      "\u001b[K[download] 100% of 182.77MiB in 00:31\n",
      "[youtube] XUj5JbQihlU: Downloading webpage\n",
      "[youtube] XUj5JbQihlU: Downloading video info webpage\n",
      "[youtube] XUj5JbQihlU: Extracting video information\n",
      "[youtube] XUj5JbQihlU: Downloading MPD manifest\n",
      "[download] Destination: Lecture 15 - Kernel Methods-XUj5JbQihlU.mp4\n",
      "\u001b[K[download] 100% of 172.98MiB in 00:29\n",
      "[youtube] I-VfYXzC5ro: Downloading webpage\n",
      "[youtube] I-VfYXzC5ro: Downloading video info webpage\n",
      "[youtube] I-VfYXzC5ro: Extracting video information\n",
      "[youtube] I-VfYXzC5ro: Downloading MPD manifest\n",
      "[download] Destination: Lecture 12 - Regularization-I-VfYXzC5ro.mp4\n",
      "\u001b[K[download] 100% of 167.25MiB in 00:27\n",
      "[youtube] MEG35RDD7RA: Downloading webpage\n",
      "[youtube] MEG35RDD7RA: Downloading video info webpage\n",
      "[youtube] MEG35RDD7RA: Extracting video information\n",
      "[youtube] MEG35RDD7RA: Downloading MPD manifest\n",
      "[download] Destination: Lecture 02 - Is Learning Feasible-MEG35RDD7RA.mp4\n",
      "\u001b[K[download] 100% of 178.87MiB in 00:30\n",
      "[youtube] ihLwJPHkMRY: Downloading webpage\n",
      "[youtube] ihLwJPHkMRY: Downloading video info webpage\n",
      "[youtube] ihLwJPHkMRY: Extracting video information\n",
      "[youtube] ihLwJPHkMRY: Downloading MPD manifest\n",
      "[download] Destination: Lecture 18 - Epilogue-ihLwJPHkMRY.mp4\n",
      "\u001b[K[download] 100% of 172.49MiB in 00:32\n",
      "[youtube] 6FWRijsmLtE: Downloading webpage\n",
      "[youtube] 6FWRijsmLtE: Downloading video info webpage\n",
      "[youtube] 6FWRijsmLtE: Extracting video information\n",
      "[youtube] 6FWRijsmLtE: Downloading MPD manifest\n",
      "[download] Destination: Lecture 06 - Theory of Generalization-6FWRijsmLtE.mp4\n",
      "\u001b[K[download] 100% of 171.54MiB in 00:29\n",
      "[youtube:playlist] PLD63A284B7615313A: Downloading webpage\n",
      "[download] Downloading playlist: Machine Learning Course - CS 156\n",
      "[youtube:playlist] playlist Machine Learning Course - CS 156: Downloading 18 videos\n",
      "[download] Downloading video 1 of 18\n",
      "[youtube] mbyG85GZ0PI: Downloading webpage\n",
      "[youtube] mbyG85GZ0PI: Downloading video info webpage\n",
      "[youtube] mbyG85GZ0PI: Extracting video information\n",
      "[youtube] mbyG85GZ0PI: Downloading MPD manifest\n",
      "[download] Destination: Lecture 01 - The Learning Problem-mbyG85GZ0PI.mp4\n",
      "\u001b[K[download] 100% of 195.21MiB in 00:36\n",
      "[download] Downloading video 2 of 18\n",
      "[youtube] MEG35RDD7RA: Downloading webpage\n",
      "[youtube] MEG35RDD7RA: Downloading video info webpage\n",
      "[youtube] MEG35RDD7RA: Extracting video information\n",
      "[youtube] MEG35RDD7RA: Downloading MPD manifest\n",
      "[download] Lecture 02 - Is Learning Feasible-MEG35RDD7RA.mp4 has already been downloaded\n",
      "\u001b[K[download] 100% of 178.87MiB\n",
      "[download] Downloading video 3 of 18\n",
      "[youtube] FIbVs5GbBlQ: Downloading webpage\n",
      "[youtube] FIbVs5GbBlQ: Downloading video info webpage\n",
      "[youtube] FIbVs5GbBlQ: Extracting video information\n",
      "[youtube] FIbVs5GbBlQ: Downloading MPD manifest\n",
      "[download] Destination: Lecture 03 -The Linear Model I-FIbVs5GbBlQ.mp4\n",
      "\u001b[K[download] 100% of 172.96MiB in 00:31\n",
      "[download] Downloading video 4 of 18\n",
      "[youtube] L_0efNkdGMc: Downloading webpage\n",
      "[youtube] L_0efNkdGMc: Downloading video info webpage\n",
      "[youtube] L_0efNkdGMc: Extracting video information\n",
      "[youtube] L_0efNkdGMc: Downloading MPD manifest\n",
      "[download] Destination: Lecture 04 - Error and Noise-L_0efNkdGMc.mp4\n",
      "\u001b[K[download] 100% of 143.75MiB in 00:24\n",
      "[download] Downloading video 5 of 18\n",
      "[youtube] SEYAnnLazMU: Downloading webpage\n",
      "[youtube] SEYAnnLazMU: Downloading video info webpage\n",
      "[youtube] SEYAnnLazMU: Extracting video information\n",
      "[youtube] SEYAnnLazMU: Downloading MPD manifest\n",
      "[download] Destination: Lecture 05 - Training Versus Testing-SEYAnnLazMU.mp4\n",
      "\u001b[K[download] 100% of 174.04MiB in 00:31\n",
      "[download] Downloading video 6 of 18\n",
      "[youtube] 6FWRijsmLtE: Downloading webpage\n",
      "[youtube] 6FWRijsmLtE: Downloading video info webpage\n",
      "[youtube] 6FWRijsmLtE: Extracting video information\n",
      "[youtube] 6FWRijsmLtE: Downloading MPD manifest\n",
      "[download] Lecture 06 - Theory of Generalization-6FWRijsmLtE.mp4 has already been downloaded\n",
      "\u001b[K[download] 100% of 171.54MiB\n",
      "[download] Downloading video 7 of 18\n",
      "[youtube] Dc0sr0kdBVI: Downloading webpage\n",
      "[youtube] Dc0sr0kdBVI: Downloading video info webpage\n",
      "[youtube] Dc0sr0kdBVI: Extracting video information\n",
      "[youtube] Dc0sr0kdBVI: Downloading MPD manifest\n",
      "[download] Destination: Lecture 07 - The VC Dimension-Dc0sr0kdBVI.mp4\n",
      "\u001b[K[download] 100% of 160.91MiB in 00:29\n",
      "[download] Downloading video 8 of 18\n",
      "[youtube] zrEyxfl2-a8: Downloading webpage\n",
      "[youtube] zrEyxfl2-a8: Downloading video info webpage\n",
      "[youtube] zrEyxfl2-a8: Extracting video information\n",
      "[youtube] zrEyxfl2-a8: Downloading MPD manifest\n",
      "[download] Destination: Lecture 08 - Bias-Variance Tradeoff-zrEyxfl2-a8.mp4\n",
      "\u001b[K[download] 100% of 171.93MiB in 00:29\n",
      "[download] Downloading video 9 of 18\n",
      "[youtube] qSTHZvN8hzs: Downloading webpage\n",
      "[youtube] qSTHZvN8hzs: Downloading video info webpage\n",
      "[youtube] qSTHZvN8hzs: Extracting video information\n",
      "[youtube] qSTHZvN8hzs: Downloading MPD manifest\n",
      "[download] Destination: Lecture 09 - The Linear Model II-qSTHZvN8hzs.mp4\n",
      "\u001b[K[download] 100% of 202.82MiB in 00:37\n",
      "[download] Downloading video 10 of 18\n",
      "[youtube] Ih5Mr93E-2c: Downloading webpage\n",
      "[youtube] Ih5Mr93E-2c: Downloading video info webpage\n",
      "[youtube] Ih5Mr93E-2c: Extracting video information\n",
      "[youtube] Ih5Mr93E-2c: Downloading MPD manifest\n",
      "[download] Destination: Lecture 10 - Neural Networks-Ih5Mr93E-2c.mp4\n",
      "\u001b[K[download] 100% of 172.56MiB in 00:28\n",
      "[download] Downloading video 11 of 18\n",
      "[youtube] EQWr3GGCdzw: Downloading webpage\n",
      "[youtube] EQWr3GGCdzw: Downloading video info webpage\n",
      "[youtube] EQWr3GGCdzw: Extracting video information\n",
      "[youtube] EQWr3GGCdzw: Downloading MPD manifest\n",
      "[download] Destination: Lecture 11 - Overfitting-EQWr3GGCdzw.mp4\n",
      "\u001b[K[download] 100% of 188.30MiB in 00:32\n",
      "[download] Downloading video 12 of 18\n",
      "[youtube] I-VfYXzC5ro: Downloading webpage\n",
      "[youtube] I-VfYXzC5ro: Downloading video info webpage\n",
      "[youtube] I-VfYXzC5ro: Extracting video information\n",
      "[youtube] I-VfYXzC5ro: Downloading MPD manifest\n",
      "[download] Lecture 12 - Regularization-I-VfYXzC5ro.mp4 has already been downloaded\n",
      "\u001b[K[download] 100% of 167.25MiB\n",
      "[download] Downloading video 13 of 18\n",
      "[youtube] o7zzaKd0Lkk: Downloading webpage\n",
      "[youtube] o7zzaKd0Lkk: Downloading video info webpage\n",
      "[youtube] o7zzaKd0Lkk: Extracting video information\n",
      "[youtube] o7zzaKd0Lkk: Downloading MPD manifest\n",
      "[download] Destination: Lecture 13 - Validation-o7zzaKd0Lkk.mp4\n",
      "\u001b[K[download] 100% of 203.36MiB in 00:33\n",
      "[download] Downloading video 14 of 18\n",
      "[youtube] eHsErlPJWUU: Downloading webpage\n",
      "[youtube] eHsErlPJWUU: Downloading video info webpage\n",
      "[youtube] eHsErlPJWUU: Extracting video information\n",
      "[youtube] eHsErlPJWUU: Downloading MPD manifest\n",
      "[download] Lecture 14 - Support Vector Machines-eHsErlPJWUU.mp4 has already been downloaded\n",
      "\u001b[K[download] 100% of 168.91MiB\n",
      "[download] Downloading video 15 of 18\n",
      "[youtube] XUj5JbQihlU: Downloading webpage\n",
      "[youtube] XUj5JbQihlU: Downloading video info webpage\n",
      "[youtube] XUj5JbQihlU: Extracting video information\n",
      "[youtube] XUj5JbQihlU: Downloading MPD manifest\n",
      "[download] Lecture 15 - Kernel Methods-XUj5JbQihlU.mp4 has already been downloaded\n",
      "\u001b[K[download] 100% of 172.98MiB\n",
      "[download] Downloading video 16 of 18\n",
      "[youtube] O8CfrnOPtLc: Downloading webpage\n",
      "[youtube] O8CfrnOPtLc: Downloading video info webpage\n",
      "[youtube] O8CfrnOPtLc: Extracting video information\n",
      "[youtube] O8CfrnOPtLc: Downloading MPD manifest\n",
      "[download] Lecture 16 - Radial Basis Functions-O8CfrnOPtLc.mp4 has already been downloaded\n",
      "\u001b[K[download] 100% of 182.77MiB\n",
      "[download] Downloading video 17 of 18\n",
      "[youtube] EZBUDG12Nr0: Downloading webpage\n",
      "[youtube] EZBUDG12Nr0: Downloading video info webpage\n",
      "[youtube] EZBUDG12Nr0: Extracting video information\n",
      "[youtube] EZBUDG12Nr0: Downloading MPD manifest\n",
      "[download] Destination: Lecture 17 - Three Learning Principles-EZBUDG12Nr0.mp4\n",
      "\u001b[K[download] 100% of 162.20MiB in 00:27\n",
      "[download] Downloading video 18 of 18\n",
      "[youtube] ihLwJPHkMRY: Downloading webpage\n",
      "[youtube] ihLwJPHkMRY: Downloading video info webpage\n",
      "[youtube] ihLwJPHkMRY: Extracting video information\n",
      "[youtube] ihLwJPHkMRY: Downloading MPD manifest\n",
      "[download] Lecture 18 - Epilogue-ihLwJPHkMRY.mp4 has already been downloaded\n",
      "\u001b[K[download] 100% of 172.49MiB\n",
      "[download] Finished downloading playlist: Machine Learning Course - CS 156\n",
      "[youtube] zrEyxfl2-a8: Downloading webpage\n",
      "[youtube] zrEyxfl2-a8: Downloading video info webpage\n",
      "[youtube] zrEyxfl2-a8: Extracting video information\n",
      "[youtube] zrEyxfl2-a8: Downloading MPD manifest\n",
      "[download] Lecture 08 - Bias-Variance Tradeoff-zrEyxfl2-a8.mp4 has already been downloaded\n",
      "\u001b[K[download] 100% of 171.93MiB\n",
      "[youtube] o7zzaKd0Lkk: Downloading webpage\n",
      "[youtube] o7zzaKd0Lkk: Downloading video info webpage\n",
      "[youtube] o7zzaKd0Lkk: Extracting video information\n",
      "[youtube] o7zzaKd0Lkk: Downloading MPD manifest\n",
      "[download] Lecture 13 - Validation-o7zzaKd0Lkk.mp4 has already been downloaded\n",
      "\u001b[K[download] 100% of 203.36MiB\n",
      "[youtube] L_0efNkdGMc: Downloading webpage\n",
      "[youtube] L_0efNkdGMc: Downloading video info webpage\n",
      "[youtube] L_0efNkdGMc: Extracting video information\n",
      "[youtube] L_0efNkdGMc: Downloading MPD manifest\n",
      "[download] Lecture 04 - Error and Noise-L_0efNkdGMc.mp4 has already been downloaded\n",
      "\u001b[K[download] 100% of 143.75MiB\n",
      "[youtube] mbyG85GZ0PI: Downloading webpage\n",
      "[youtube] mbyG85GZ0PI: Downloading video info webpage\n",
      "[youtube] mbyG85GZ0PI: Extracting video information\n",
      "[youtube] mbyG85GZ0PI: Downloading MPD manifest\n",
      "[download] Lecture 01 - The Learning Problem-mbyG85GZ0PI.mp4 has already been downloaded\n",
      "\u001b[K[download] 100% of 195.21MiB\n",
      "[youtube] EZBUDG12Nr0: Downloading webpage\n",
      "[youtube] EZBUDG12Nr0: Downloading video info webpage\n",
      "[youtube] EZBUDG12Nr0: Extracting video information\n",
      "[youtube] EZBUDG12Nr0: Downloading MPD manifest\n",
      "[download] Lecture 17 - Three Learning Principles-EZBUDG12Nr0.mp4 has already been downloaded\n",
      "\u001b[K[download] 100% of 162.20MiB\n",
      "[youtube] EQWr3GGCdzw: Downloading webpage\n",
      "[youtube] EQWr3GGCdzw: Downloading video info webpage\n",
      "[youtube] EQWr3GGCdzw: Extracting video information\n",
      "[youtube] EQWr3GGCdzw: Downloading MPD manifest\n",
      "[download] Lecture 11 - Overfitting-EQWr3GGCdzw.mp4 has already been downloaded\n",
      "\u001b[K[download] 100% of 188.30MiB\n",
      "[youtube] FIbVs5GbBlQ: Downloading webpage\n",
      "[youtube] FIbVs5GbBlQ: Downloading video info webpage\n",
      "[youtube] FIbVs5GbBlQ: Extracting video information\n",
      "[youtube] FIbVs5GbBlQ: Downloading MPD manifest\n",
      "[download] Lecture 03 -The Linear Model I-FIbVs5GbBlQ.mp4 has already been downloaded\n",
      "\u001b[K[download] 100% of 172.96MiB\n",
      "[youtube] SEYAnnLazMU: Downloading webpage\n",
      "[youtube] SEYAnnLazMU: Downloading video info webpage\n",
      "[youtube] SEYAnnLazMU: Extracting video information\n",
      "[youtube] SEYAnnLazMU: Downloading MPD manifest\n",
      "[download] Lecture 05 - Training Versus Testing-SEYAnnLazMU.mp4 has already been downloaded\n",
      "\u001b[K[download] 100% of 174.04MiB\n",
      "[youtube] Dc0sr0kdBVI: Downloading webpage\n",
      "[youtube] Dc0sr0kdBVI: Downloading video info webpage\n",
      "[youtube] Dc0sr0kdBVI: Extracting video information\n",
      "[youtube] Dc0sr0kdBVI: Downloading MPD manifest\n",
      "[download] Lecture 07 - The VC Dimension-Dc0sr0kdBVI.mp4 has already been downloaded\n",
      "\u001b[K[download] 100% of 160.91MiB\n",
      "[youtube] qSTHZvN8hzs: Downloading webpage\n",
      "[youtube] qSTHZvN8hzs: Downloading video info webpage\n",
      "[youtube] qSTHZvN8hzs: Extracting video information\n",
      "[youtube] qSTHZvN8hzs: Downloading MPD manifest\n",
      "[download] Lecture 09 - The Linear Model II-qSTHZvN8hzs.mp4 has already been downloaded\n",
      "\u001b[K[download] 100% of 202.82MiB\n",
      "[youtube] Ih5Mr93E-2c: Downloading webpage\n",
      "[youtube] Ih5Mr93E-2c: Downloading video info webpage\n",
      "[youtube] Ih5Mr93E-2c: Extracting video information\n",
      "[youtube] Ih5Mr93E-2c: Downloading MPD manifest\n",
      "[download] Lecture 10 - Neural Networks-Ih5Mr93E-2c.mp4 has already been downloaded\n",
      "\u001b[K[download] 100% of 172.56MiB\n"
     ]
    }
   ],
   "source": [
    "!youtube-dl 'http://www.youtube.com/watch?v=eHsErlPJWUU&hd=1'\n",
    "!youtube-dl 'http://www.youtube.com/watch?v=O8CfrnOPtLc&hd=1'\n",
    "!youtube-dl 'http://www.youtube.com/watch?v=XUj5JbQihlU&hd=1'\n",
    "!youtube-dl 'http://www.youtube.com/watch?v=I-VfYXzC5ro&hd=1'\n",
    "!youtube-dl 'http://www.youtube.com/watch?v=MEG35RDD7RA&hd=1'\n",
    "!youtube-dl 'http://www.youtube.com/watch?v=ihLwJPHkMRY&hd=1'\n",
    "!youtube-dl 'http://www.youtube.com/watch?v=6FWRijsmLtE&hd=1'\n",
    "!youtube-dl 'http://www.youtube.com/playlist?list=PLD63A284B7615313A'\n",
    "!youtube-dl 'http://www.youtube.com/watch?v=zrEyxfl2-a8&hd=1'\n",
    "!youtube-dl 'http://www.youtube.com/watch?v=o7zzaKd0Lkk&hd=1'\n",
    "!youtube-dl 'http://www.youtube.com/watch?v=L_0efNkdGMc&hd=1'\n",
    "!youtube-dl 'http://www.youtube.com/watch?v=mbyG85GZ0PI&hd=1'\n",
    "!youtube-dl 'http://www.youtube.com/watch?v=EZBUDG12Nr0&hd=1'\n",
    "!youtube-dl 'http://www.youtube.com/watch?v=EQWr3GGCdzw&hd=1'\n",
    "!youtube-dl 'http://www.youtube.com/watch?v=FIbVs5GbBlQ&hd=1'\n",
    "!youtube-dl 'http://www.youtube.com/watch?v=SEYAnnLazMU&hd=1'\n",
    "!youtube-dl 'http://www.youtube.com/watch?v=Dc0sr0kdBVI&hd=1'\n",
    "!youtube-dl 'http://www.youtube.com/watch?v=qSTHZvN8hzs&hd=1'\n",
    "!youtube-dl 'http://www.youtube.com/watch?v=Ih5Mr93E-2c&hd=1'"
   ]
  },
  {
   "cell_type": "code",
   "execution_count": 107,
   "metadata": {
    "collapsed": false
   },
   "outputs": [
    {
     "name": "stdout",
     "output_type": "stream",
     "text": [
      "Reading package lists... Done\n",
      "Building dependency tree       \n",
      "Reading state information... Done\n",
      "build-essential is already the newest version.\n",
      "build-essential set to manually installed.\n",
      "The following extra packages will be installed:\n",
      "  comerr-dev gir1.2-freedesktop gobject-introspection krb5-multidev libelfg0\n",
      "  libffi-dev libgcrypt11-dev libglib2.0-bin libgnutls-dev libgnutlsxx27\n",
      "  libgpg-error-dev libgssrpc4 libidn11-dev libkadm5clnt-mit9 libkadm5srv-mit9\n",
      "  libkdb5-7 libkrb5-dev libldap2-dev libp11-kit-dev libpcre3-dev libpcrecpp0\n",
      "  librtmp-dev libssl-doc libtasn1-6-dev pkg-config python-mako\n",
      "  python-markupsafe zlib1g-dev\n",
      "Suggested packages:\n",
      "  doc-base krb5-doc libcurl4-doc libcurl3-dbg libgcrypt11-doc\n",
      "  libgirepository1.0-doc libglib2.0-doc gnutls26-doc gnutls-bin krb5-user\n",
      "  python-beaker python-mako-doc\n",
      "The following NEW packages will be installed:\n",
      "  comerr-dev gir1.2-freedesktop gobject-introspection krb5-multidev\n",
      "  libcurl4-openssl-dev libelfg0 libffi-dev libgcrypt11-dev\n",
      "  libgirepository1.0-dev libglib2.0-bin libglib2.0-dev libgnutls-dev\n",
      "  libgnutlsxx27 libgpg-error-dev libgssrpc4 libidn11-dev libkadm5clnt-mit9\n",
      "  libkadm5srv-mit9 libkdb5-7 libkrb5-dev libldap2-dev libp11-kit-dev\n",
      "  libpcre3-dev libpcrecpp0 librtmp-dev libssl-dev libssl-doc libtasn1-6-dev\n",
      "  pkg-config python-mako python-markupsafe zlib1g-dev\n",
      "0 upgraded, 32 newly installed, 0 to remove and 13 not upgraded.\n",
      "Need to get 7534 kB of archives.\n",
      "After this operation, 41.7 MB of additional disk space will be used.\n",
      "Get:1 http://us-east-1.ec2.archive.ubuntu.com/ubuntu/ trusty/main libelfg0 amd64 0.8.13-5 [37.6 kB]\n",
      "Get:2 http://us-east-1.ec2.archive.ubuntu.com/ubuntu/ trusty-updates/main libgssrpc4 amd64 1.12+dfsg-2ubuntu5.2 [53.1 kB]\n",
      "Get:3 http://us-east-1.ec2.archive.ubuntu.com/ubuntu/ trusty-updates/main libkadm5clnt-mit9 amd64 1.12+dfsg-2ubuntu5.2 [36.2 kB]\n",
      "Get:4 http://us-east-1.ec2.archive.ubuntu.com/ubuntu/ trusty-updates/main libkdb5-7 amd64 1.12+dfsg-2ubuntu5.2 [36.2 kB]\n",
      "Get:5 http://us-east-1.ec2.archive.ubuntu.com/ubuntu/ trusty-updates/main libkadm5srv-mit9 amd64 1.12+dfsg-2ubuntu5.2 [50.4 kB]\n",
      "Get:6 http://us-east-1.ec2.archive.ubuntu.com/ubuntu/ trusty-updates/main libpcrecpp0 amd64 1:8.31-2ubuntu2.3 [14.5 kB]\n",
      "Get:7 http://us-east-1.ec2.archive.ubuntu.com/ubuntu/ trusty-updates/main libgnutlsxx27 amd64 2.12.23-12ubuntu2.5 [17.3 kB]\n",
      "Get:8 http://us-east-1.ec2.archive.ubuntu.com/ubuntu/ trusty-updates/main gir1.2-freedesktop amd64 1.40.0-1ubuntu0.2 [5652 B]\n",
      "Get:9 http://us-east-1.ec2.archive.ubuntu.com/ubuntu/ trusty/main python-markupsafe amd64 0.18-1build2 [14.3 kB]\n",
      "Get:10 http://us-east-1.ec2.archive.ubuntu.com/ubuntu/ trusty/main python-mako all 0.9.1-1 [59.6 kB]\n",
      "Get:11 http://us-east-1.ec2.archive.ubuntu.com/ubuntu/ trusty-updates/main gobject-introspection amd64 1.40.0-1ubuntu0.2 [254 kB]\n",
      "Get:12 http://us-east-1.ec2.archive.ubuntu.com/ubuntu/ trusty-updates/main comerr-dev amd64 2.1-1.42.9-3ubuntu1.3 [38.3 kB]\n",
      "Get:13 http://us-east-1.ec2.archive.ubuntu.com/ubuntu/ trusty-updates/main krb5-multidev amd64 1.12+dfsg-2ubuntu5.2 [111 kB]\n",
      "Get:14 http://us-east-1.ec2.archive.ubuntu.com/ubuntu/ trusty/main pkg-config amd64 0.26-1ubuntu4 [40.9 kB]\n",
      "Get:15 http://us-east-1.ec2.archive.ubuntu.com/ubuntu/ trusty-updates/main libidn11-dev amd64 1.28-1ubuntu2.1 [520 kB]\n",
      "Get:16 http://us-east-1.ec2.archive.ubuntu.com/ubuntu/ trusty-updates/main libkrb5-dev amd64 1.12+dfsg-2ubuntu5.2 [14.4 kB]\n",
      "Get:17 http://us-east-1.ec2.archive.ubuntu.com/ubuntu/ trusty-updates/main libldap2-dev amd64 2.4.31-1+nmu2ubuntu8.3 [259 kB]\n",
      "Get:18 http://us-east-1.ec2.archive.ubuntu.com/ubuntu/ trusty/main libgpg-error-dev amd64 1.12-0.2ubuntu1 [20.1 kB]\n",
      "Get:19 http://us-east-1.ec2.archive.ubuntu.com/ubuntu/ trusty-updates/main libgcrypt11-dev amd64 1.5.3-2ubuntu4.4 [274 kB]\n",
      "Get:20 http://us-east-1.ec2.archive.ubuntu.com/ubuntu/ trusty/main zlib1g-dev amd64 1:1.2.8.dfsg-1ubuntu1 [183 kB]\n",
      "Get:21 http://us-east-1.ec2.archive.ubuntu.com/ubuntu/ trusty-updates/main libtasn1-6-dev amd64 3.4-3ubuntu0.4 [385 kB]\n",
      "Get:22 http://us-east-1.ec2.archive.ubuntu.com/ubuntu/ trusty/main libp11-kit-dev amd64 0.20.2-2ubuntu2 [56.4 kB]\n",
      "Get:23 http://us-east-1.ec2.archive.ubuntu.com/ubuntu/ trusty-updates/main libgnutls-dev amd64 2.12.23-12ubuntu2.5 [372 kB]\n",
      "Get:24 http://us-east-1.ec2.archive.ubuntu.com/ubuntu/ trusty/main librtmp-dev amd64 2.4+20121230.gitdf6c518-1 [67.1 kB]\n",
      "Get:25 http://us-east-1.ec2.archive.ubuntu.com/ubuntu/ trusty-updates/main libssl-dev amd64 1.0.1f-1ubuntu2.19 [1073 kB]\n",
      "Get:26 http://us-east-1.ec2.archive.ubuntu.com/ubuntu/ trusty-updates/main libcurl4-openssl-dev amd64 7.35.0-1ubuntu2.9 [245 kB]\n",
      "Get:27 http://us-east-1.ec2.archive.ubuntu.com/ubuntu/ trusty-updates/main libglib2.0-bin amd64 2.40.2-0ubuntu1 [34.9 kB]\n",
      "Get:28 http://us-east-1.ec2.archive.ubuntu.com/ubuntu/ trusty-updates/main libpcre3-dev amd64 1:8.31-2ubuntu2.3 [237 kB]\n",
      "Get:29 http://us-east-1.ec2.archive.ubuntu.com/ubuntu/ trusty-updates/main libglib2.0-dev amd64 2.40.2-0ubuntu1 [1322 kB]\n",
      "Get:30 http://us-east-1.ec2.archive.ubuntu.com/ubuntu/ trusty-updates/main libffi-dev amd64 3.1~rc1+r3.0.13-12ubuntu0.1 [99.8 kB]\n",
      "Get:31 http://us-east-1.ec2.archive.ubuntu.com/ubuntu/ trusty-updates/main libgirepository1.0-dev amd64 1.40.0-1ubuntu0.2 [632 kB]\n",
      "Get:32 http://us-east-1.ec2.archive.ubuntu.com/ubuntu/ trusty-updates/main libssl-doc all 1.0.1f-1ubuntu2.19 [971 kB]\n",
      "Fetched 7534 kB in 3s (1932 kB/s)\n",
      "Extracting templates from packages: 100%\n",
      "Selecting previously unselected package libelfg0:amd64.\n",
      "(Reading database ... 73697 files and directories currently installed.)\n",
      "Preparing to unpack .../libelfg0_0.8.13-5_amd64.deb ...\n",
      "Unpacking libelfg0:amd64 (0.8.13-5) ...\n",
      "Selecting previously unselected package libgssrpc4:amd64.\n",
      "Preparing to unpack .../libgssrpc4_1.12+dfsg-2ubuntu5.2_amd64.deb ...\n",
      "Unpacking libgssrpc4:amd64 (1.12+dfsg-2ubuntu5.2) ...\n",
      "Selecting previously unselected package libkadm5clnt-mit9:amd64.\n",
      "Preparing to unpack .../libkadm5clnt-mit9_1.12+dfsg-2ubuntu5.2_amd64.deb ...\n",
      "Unpacking libkadm5clnt-mit9:amd64 (1.12+dfsg-2ubuntu5.2) ...\n",
      "Selecting previously unselected package libkdb5-7:amd64.\n",
      "Preparing to unpack .../libkdb5-7_1.12+dfsg-2ubuntu5.2_amd64.deb ...\n",
      "Unpacking libkdb5-7:amd64 (1.12+dfsg-2ubuntu5.2) ...\n",
      "Selecting previously unselected package libkadm5srv-mit9:amd64.\n",
      "Preparing to unpack .../libkadm5srv-mit9_1.12+dfsg-2ubuntu5.2_amd64.deb ...\n",
      "Unpacking libkadm5srv-mit9:amd64 (1.12+dfsg-2ubuntu5.2) ...\n",
      "Selecting previously unselected package libpcrecpp0:amd64.\n",
      "Preparing to unpack .../libpcrecpp0_1%3a8.31-2ubuntu2.3_amd64.deb ...\n",
      "Unpacking libpcrecpp0:amd64 (1:8.31-2ubuntu2.3) ...\n",
      "Selecting previously unselected package libgnutlsxx27:amd64.\n",
      "Preparing to unpack .../libgnutlsxx27_2.12.23-12ubuntu2.5_amd64.deb ...\n",
      "Unpacking libgnutlsxx27:amd64 (2.12.23-12ubuntu2.5) ...\n",
      "Selecting previously unselected package gir1.2-freedesktop.\n",
      "Preparing to unpack .../gir1.2-freedesktop_1.40.0-1ubuntu0.2_amd64.deb ...\n",
      "Unpacking gir1.2-freedesktop (1.40.0-1ubuntu0.2) ...\n",
      "Selecting previously unselected package python-markupsafe.\n",
      "Preparing to unpack .../python-markupsafe_0.18-1build2_amd64.deb ...\n",
      "Unpacking python-markupsafe (0.18-1build2) ...\n",
      "Selecting previously unselected package python-mako.\n",
      "Preparing to unpack .../python-mako_0.9.1-1_all.deb ...\n",
      "Unpacking python-mako (0.9.1-1) ...\n",
      "Selecting previously unselected package gobject-introspection.\n",
      "Preparing to unpack .../gobject-introspection_1.40.0-1ubuntu0.2_amd64.deb ...\n",
      "Unpacking gobject-introspection (1.40.0-1ubuntu0.2) ...\n",
      "Selecting previously unselected package comerr-dev.\n",
      "Preparing to unpack .../comerr-dev_2.1-1.42.9-3ubuntu1.3_amd64.deb ...\n",
      "Unpacking comerr-dev (2.1-1.42.9-3ubuntu1.3) ...\n",
      "Selecting previously unselected package krb5-multidev.\n",
      "Preparing to unpack .../krb5-multidev_1.12+dfsg-2ubuntu5.2_amd64.deb ...\n",
      "Unpacking krb5-multidev (1.12+dfsg-2ubuntu5.2) ...\n",
      "Selecting previously unselected package pkg-config.\n",
      "Preparing to unpack .../pkg-config_0.26-1ubuntu4_amd64.deb ...\n",
      "Unpacking pkg-config (0.26-1ubuntu4) ...\n",
      "Selecting previously unselected package libidn11-dev.\n",
      "Preparing to unpack .../libidn11-dev_1.28-1ubuntu2.1_amd64.deb ...\n",
      "Unpacking libidn11-dev (1.28-1ubuntu2.1) ...\n",
      "Selecting previously unselected package libkrb5-dev.\n",
      "Preparing to unpack .../libkrb5-dev_1.12+dfsg-2ubuntu5.2_amd64.deb ...\n",
      "Unpacking libkrb5-dev (1.12+dfsg-2ubuntu5.2) ...\n",
      "Selecting previously unselected package libldap2-dev:amd64.\n",
      "Preparing to unpack .../libldap2-dev_2.4.31-1+nmu2ubuntu8.3_amd64.deb ...\n",
      "Unpacking libldap2-dev:amd64 (2.4.31-1+nmu2ubuntu8.3) ...\n",
      "Selecting previously unselected package libgpg-error-dev.\n",
      "Preparing to unpack .../libgpg-error-dev_1.12-0.2ubuntu1_amd64.deb ...\n",
      "Unpacking libgpg-error-dev (1.12-0.2ubuntu1) ...\n",
      "Selecting previously unselected package libgcrypt11-dev.\n",
      "Preparing to unpack .../libgcrypt11-dev_1.5.3-2ubuntu4.4_amd64.deb ...\n",
      "Unpacking libgcrypt11-dev (1.5.3-2ubuntu4.4) ...\n",
      "Selecting previously unselected package zlib1g-dev:amd64.\n",
      "Preparing to unpack .../zlib1g-dev_1%3a1.2.8.dfsg-1ubuntu1_amd64.deb ...\n",
      "Unpacking zlib1g-dev:amd64 (1:1.2.8.dfsg-1ubuntu1) ...\n",
      "Selecting previously unselected package libtasn1-6-dev.\n",
      "Preparing to unpack .../libtasn1-6-dev_3.4-3ubuntu0.4_amd64.deb ...\n",
      "Unpacking libtasn1-6-dev (3.4-3ubuntu0.4) ...\n",
      "Selecting previously unselected package libp11-kit-dev.\n",
      "Preparing to unpack .../libp11-kit-dev_0.20.2-2ubuntu2_amd64.deb ...\n",
      "Unpacking libp11-kit-dev (0.20.2-2ubuntu2) ...\n",
      "Selecting previously unselected package libgnutls-dev.\n",
      "Preparing to unpack .../libgnutls-dev_2.12.23-12ubuntu2.5_amd64.deb ...\n",
      "Unpacking libgnutls-dev (2.12.23-12ubuntu2.5) ...\n",
      "Selecting previously unselected package librtmp-dev.\n",
      "Preparing to unpack .../librtmp-dev_2.4+20121230.gitdf6c518-1_amd64.deb ...\n",
      "Unpacking librtmp-dev (2.4+20121230.gitdf6c518-1) ...\n",
      "Selecting previously unselected package libssl-dev:amd64.\n",
      "Preparing to unpack .../libssl-dev_1.0.1f-1ubuntu2.19_amd64.deb ...\n",
      "Unpacking libssl-dev:amd64 (1.0.1f-1ubuntu2.19) ...\n",
      "Selecting previously unselected package libcurl4-openssl-dev:amd64.\n",
      "Preparing to unpack .../libcurl4-openssl-dev_7.35.0-1ubuntu2.9_amd64.deb ...\n",
      "Unpacking libcurl4-openssl-dev:amd64 (7.35.0-1ubuntu2.9) ...\n",
      "Selecting previously unselected package libglib2.0-bin.\n",
      "Preparing to unpack .../libglib2.0-bin_2.40.2-0ubuntu1_amd64.deb ...\n",
      "Unpacking libglib2.0-bin (2.40.2-0ubuntu1) ...\n",
      "Selecting previously unselected package libpcre3-dev:amd64.\n",
      "Preparing to unpack .../libpcre3-dev_1%3a8.31-2ubuntu2.3_amd64.deb ...\n",
      "Unpacking libpcre3-dev:amd64 (1:8.31-2ubuntu2.3) ...\n",
      "Selecting previously unselected package libglib2.0-dev.\n",
      "Preparing to unpack .../libglib2.0-dev_2.40.2-0ubuntu1_amd64.deb ...\n",
      "Unpacking libglib2.0-dev (2.40.2-0ubuntu1) ...\n",
      "Selecting previously unselected package libffi-dev:amd64.\n",
      "Preparing to unpack .../libffi-dev_3.1~rc1+r3.0.13-12ubuntu0.1_amd64.deb ...\n",
      "Unpacking libffi-dev:amd64 (3.1~rc1+r3.0.13-12ubuntu0.1) ...\n",
      "Selecting previously unselected package libgirepository1.0-dev.\n",
      "Preparing to unpack .../libgirepository1.0-dev_1.40.0-1ubuntu0.2_amd64.deb ...\n",
      "Unpacking libgirepository1.0-dev (1.40.0-1ubuntu0.2) ...\n",
      "Selecting previously unselected package libssl-doc.\n",
      "Preparing to unpack .../libssl-doc_1.0.1f-1ubuntu2.19_all.deb ...\n",
      "Unpacking libssl-doc (1.0.1f-1ubuntu2.19) ...\n",
      "Processing triggers for man-db (2.6.7.1-1ubuntu1) ...\n",
      "Processing triggers for install-info (5.2.0.dfsg.1-2) ...\n",
      "Processing triggers for libglib2.0-0:amd64 (2.40.2-0ubuntu1) ...\n",
      "Setting up libelfg0:amd64 (0.8.13-5) ...\n",
      "Setting up libgssrpc4:amd64 (1.12+dfsg-2ubuntu5.2) ...\n",
      "Setting up libkadm5clnt-mit9:amd64 (1.12+dfsg-2ubuntu5.2) ...\n",
      "Setting up libkdb5-7:amd64 (1.12+dfsg-2ubuntu5.2) ...\n",
      "Setting up libkadm5srv-mit9:amd64 (1.12+dfsg-2ubuntu5.2) ...\n",
      "Setting up libpcrecpp0:amd64 (1:8.31-2ubuntu2.3) ...\n",
      "Setting up libgnutlsxx27:amd64 (2.12.23-12ubuntu2.5) ...\n",
      "Setting up gir1.2-freedesktop (1.40.0-1ubuntu0.2) ...\n",
      "Setting up python-markupsafe (0.18-1build2) ...\n",
      "Setting up python-mako (0.9.1-1) ...\n",
      "Setting up gobject-introspection (1.40.0-1ubuntu0.2) ...\n",
      "Setting up comerr-dev (2.1-1.42.9-3ubuntu1.3) ...\n",
      "Setting up krb5-multidev (1.12+dfsg-2ubuntu5.2) ...\n",
      "Setting up pkg-config (0.26-1ubuntu4) ...\n",
      "Setting up libidn11-dev (1.28-1ubuntu2.1) ...\n",
      "Setting up libkrb5-dev (1.12+dfsg-2ubuntu5.2) ...\n",
      "Setting up libldap2-dev:amd64 (2.4.31-1+nmu2ubuntu8.3) ...\n",
      "Setting up libgpg-error-dev (1.12-0.2ubuntu1) ...\n",
      "Setting up libgcrypt11-dev (1.5.3-2ubuntu4.4) ...\n",
      "Setting up zlib1g-dev:amd64 (1:1.2.8.dfsg-1ubuntu1) ...\n",
      "Setting up libtasn1-6-dev (3.4-3ubuntu0.4) ...\n",
      "Setting up libp11-kit-dev (0.20.2-2ubuntu2) ...\n",
      "Setting up libgnutls-dev (2.12.23-12ubuntu2.5) ...\n",
      "Setting up librtmp-dev (2.4+20121230.gitdf6c518-1) ...\n",
      "Setting up libssl-dev:amd64 (1.0.1f-1ubuntu2.19) ...\n",
      "Setting up libcurl4-openssl-dev:amd64 (7.35.0-1ubuntu2.9) ...\n",
      "Setting up libglib2.0-bin (2.40.2-0ubuntu1) ...\n",
      "Setting up libpcre3-dev:amd64 (1:8.31-2ubuntu2.3) ...\n",
      "Setting up libglib2.0-dev (2.40.2-0ubuntu1) ...\n",
      "Setting up libffi-dev:amd64 (3.1~rc1+r3.0.13-12ubuntu0.1) ...\n",
      "Setting up libgirepository1.0-dev (1.40.0-1ubuntu0.2) ...\n",
      "Setting up libssl-doc (1.0.1f-1ubuntu2.19) ...\n",
      "Processing triggers for libc-bin (2.19-0ubuntu6.9) ...\n"
     ]
    }
   ],
   "source": [
    "!sudo apt-get -y install build-essential libglib2.0-dev libssl-dev \\\n",
    "    libcurl4-openssl-dev libgirepository1.0-dev"
   ]
  },
  {
   "cell_type": "code",
   "execution_count": 116,
   "metadata": {
    "collapsed": false
   },
   "outputs": [
    {
     "name": "stdout",
     "output_type": "stream",
     "text": [
      "sh: 0: getcwd() failed: No such file or directory\n",
      "sh: 0: getcwd() failed: No such file or directory\n",
      "sh: 0: getcwd() failed: No such file or directory\n",
      "\n",
      "Parameter validation failed:\n",
      "Invalid type for parameter UploadId, value: None, type: <type 'NoneType'>, valid types: <type 'basestring'>\n"
     ]
    }
   ],
   "source": [
    "!aws s3 cp /home/ubuntu/caltech-ml s3://caltech-ml --recursive"
   ]
  },
  {
   "cell_type": "code",
   "execution_count": 123,
   "metadata": {
    "collapsed": false
   },
   "outputs": [
    {
     "name": "stdout",
     "output_type": "stream",
     "text": [
      "sh: 0: getcwd() failed: No such file or directory\n",
      "sh: 0: getcwd() failed: No such file or directory\n",
      "^CTraceback (most recent call last):\n",
      "  File \"/usr/local/bin/aws\", line 27, in <module>\n",
      "    sys.exit(main())\n",
      "  File \"/usr/local/bin/aws\", line 23, in main\n",
      "    return awscli.clidriver.main()\n",
      "  File \"/usr/local/lib/python2.7/dist-packages/awscli/clidriver.py\", line 49, in main\n",
      "    driver = create_clidriver()\n",
      "  File \"/usr/local/lib/python2.7/dist-packages/awscli/clidriver.py\", line 58, in create_clidriver\n",
      "    event_hooks=emitter)\n",
      "  File \"/usr/local/lib/python2.7/dist-packages/awscli/plugin.py\", line 44, in load_plugins\n",
      "    modules = _import_plugins(plugin_mapping)\n",
      "  File \"/usr/local/lib/python2.7/dist-packages/awscli/plugin.py\", line 61, in _import_plugins\n",
      "    module = __import__(path, fromlist=[module])\n",
      "  File \"/usr/local/lib/python2.7/dist-packages/awscli/handlers.py\", line 39, in <module>\n",
      "    from awscli.customizations.configservice.subscribe import register_subscribe\n",
      "  File \"/usr/local/lib/python2.7/dist-packages/awscli/customizations/configservice/subscribe.py\", line 18, in <module>\n",
      "    from awscli.customizations.s3.utils import find_bucket_key\n",
      "  File \"/usr/local/lib/python2.7/dist-packages/awscli/customizations/s3/utils.py\", line 28, in <module>\n",
      "\n",
      "    from s3transfer.subscribers import BaseSubscriber\n",
      "  File \"/usr/local/lib/python2.7/dist-packages/s3transfer/__init__.py\", line 125, in <module>\n",
      "    \"\"\"\n",
      "KeyboardInterrupt\n"
     ]
    }
   ],
   "source": [
    "!aws s3 ls s3://caltech-ml"
   ]
  },
  {
   "cell_type": "code",
   "execution_count": null,
   "metadata": {
    "collapsed": false
   },
   "outputs": [],
   "source": [
    "\n"
   ]
  }
 ],
 "metadata": {
  "kernelspec": {
   "display_name": "Python 2",
   "language": "python",
   "name": "python2"
  },
  "language_info": {
   "codemirror_mode": {
    "name": "ipython",
    "version": 2
   },
   "file_extension": ".py",
   "mimetype": "text/x-python",
   "name": "python",
   "nbconvert_exporter": "python",
   "pygments_lexer": "ipython2",
   "version": "2.7.11"
  }
 },
 "nbformat": 4,
 "nbformat_minor": 0
}
