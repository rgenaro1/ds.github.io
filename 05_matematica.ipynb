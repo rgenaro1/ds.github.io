{
 "cells": [
  {
   "cell_type": "markdown",
   "metadata": {
    "collapsed": true
   },
   "source": [
    "Espacio Normado"
   ]
  },
  {
   "cell_type": "markdown",
   "metadata": {},
   "source": [
    "Norma euclideana\n",
    "\n",
    "$\\|x\\|_2=\\sqrt{\\displaystyle\\sum_{i=1}^{n}x_{i}^2}$"
   ]
  },
  {
   "cell_type": "markdown",
   "metadata": {},
   "source": [
    "Norma Manhattan\n",
    "\n",
    "$\\|x\\|_1=\\sqrt{\\displaystyle\\sum_{i=1}^{n}|x_{i}|}$"
   ]
  },
  {
   "cell_type": "markdown",
   "metadata": {},
   "source": [
    "Espacio metrico\n",
    "\n",
    "Cada espacio normado se puede convertir en espacio metrico mediante la definicion de funcion de distancia  $d(x,y)=\\|y-x\\|$\n",
    "\n"
   ]
  },
  {
   "cell_type": "markdown",
   "metadata": {},
   "source": [
    "Metrica euclidiana\n",
    "\n",
    "$\\rho_{2}(x,y)=\\sqrt{\\displaystyle\\sum_{i=1}^{n}(x_i-y_i)^2}$"
   ]
  },
  {
   "cell_type": "markdown",
   "metadata": {},
   "source": [
    "Metrica manhattan\n",
    "\n",
    "$\\rho_{1}(x,y)=\\sqrt{\\displaystyle\\sum_{i=1}^{n}|x_i-y_i|}$"
   ]
  },
  {
   "cell_type": "markdown",
   "metadata": {},
   "source": [
    "Producto escalar\n",
    "\n",
    "EL producto escalar es una funcion $\\langle x,y \\rangle : VxV \\to {\\rm I\\!R} $ que satisface:\n",
    "\n",
    "Longitud del vector  $\\|x\\|=\\sqrt{\\langle x,y \\rangle}$\n",
    "\n",
    "Angulo entre los vectores de $ \\alpha= $\n",
    "\n",
    "Entonces se tiene que en espacio euclidiano:\n",
    "\n",
    "$$ \\|x\\|=\\|x\\|_2=\\sqrt{\\langle x,y \\rangle}= \\sqrt{\\displaystyle\\sum_{i=1}^{n}x_{i}^2}$$"
   ]
  },
  {
   "cell_type": "markdown",
   "metadata": {},
   "source": [
    "Algebra lineal"
   ]
  },
  {
   "cell_type": "code",
   "execution_count": null,
   "metadata": {
    "collapsed": false
   },
   "outputs": [],
   "source": []
  }
 ],
 "metadata": {
  "kernelspec": {
   "display_name": "Python 2",
   "language": "python",
   "name": "python2"
  },
  "language_info": {
   "codemirror_mode": {
    "name": "ipython",
    "version": 2
   },
   "file_extension": ".py",
   "mimetype": "text/x-python",
   "name": "python",
   "nbconvert_exporter": "python",
   "pygments_lexer": "ipython2",
   "version": "2.7.11"
  }
 },
 "nbformat": 4,
 "nbformat_minor": 0
}
