{
 "cells": [
  {
   "cell_type": "markdown",
   "metadata": {
    "collapsed": true
   },
   "source": [
    "El aprendizaje automático es la idea de que existen algoritmos genéricos con los que describir patrones de interés sobre un conjunto de datos sin tener que escribir ningún código personalizado específico para el problema. En lugar de escribir código, se alimenta de datos con el algoritmo genérico y  construye su propia lógica basada en los datos."
   ]
  },
  {
   "cell_type": "markdown",
   "metadata": {},
   "source": [
    "Se puede hablar de aprendizaje automático si hay los siguientes aspectos presentes:\n",
    "Se sabe que hay una relación o algún tipo de patrones que una persona podría reconocer y entender.\n",
    "Dichos patrones no pueden ser descritos por una fórmula matemática exacta o algún criterio que defina la totalidad de los datos.\n",
    "Hay datos para encontrar los dos aspectos anteriores."
   ]
  },
  {
   "cell_type": "markdown",
   "metadata": {},
   "source": []
  }
 ],
 "metadata": {
  "kernelspec": {
   "display_name": "Python 2",
   "language": "python",
   "name": "python2"
  },
  "language_info": {
   "codemirror_mode": {
    "name": "ipython",
    "version": 2
   },
   "file_extension": ".py",
   "mimetype": "text/x-python",
   "name": "python",
   "nbconvert_exporter": "python",
   "pygments_lexer": "ipython2",
   "version": "2.7.11"
  }
 },
 "nbformat": 4,
 "nbformat_minor": 0
}
